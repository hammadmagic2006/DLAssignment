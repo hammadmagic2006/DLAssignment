{
 "cells": [
  {
   "cell_type": "markdown",
   "metadata": {},
   "source": [
    "# **Importing Libraries**"
   ]
  },
  {
   "cell_type": "code",
   "execution_count": 112,
   "metadata": {
    "id": "P1KKN0UI0b1a"
   },
   "outputs": [],
   "source": [
    "import numpy as np\n",
    "import pandas as pd\n",
    "from tensorflow.keras import models,layers\n"
   ]
  },
  {
   "cell_type": "markdown",
   "metadata": {},
   "source": [
    "# **Loading and shuffling data**"
   ]
  },
  {
   "cell_type": "code",
   "execution_count": 116,
   "metadata": {
    "id": "vhacFkdO1TdJ",
    "outputId": "40047f95-0678-4b89-de99-9f6e0baa5057"
   },
   "outputs": [],
   "source": [
    "data=pd.read_csv('/home/hammad/my_project_dir/Concrete_Data.csv')\n",
    "data.loc[43]\n",
    "data=data.sample(frac=1)"
   ]
  },
  {
   "cell_type": "code",
   "execution_count": 118,
   "metadata": {},
   "outputs": [
    {
     "name": "stdout",
     "output_type": "stream",
     "text": [
      "<class 'pandas.core.frame.DataFrame'>\n",
      "Int64Index: 1030 entries, 366 to 187\n",
      "Data columns (total 9 columns):\n",
      " #   Column                                                 Non-Null Count  Dtype  \n",
      "---  ------                                                 --------------  -----  \n",
      " 0   Cement (component 1)(kg in a m^3 mixture)              1030 non-null   float64\n",
      " 1   Blast Furnace Slag (component 2)(kg in a m^3 mixture)  1030 non-null   float64\n",
      " 2   Fly Ash (component 3)(kg in a m^3 mixture)             1030 non-null   float64\n",
      " 3   Water  (component 4)(kg in a m^3 mixture)              1030 non-null   float64\n",
      " 4   Superplasticizer (component 5)(kg in a m^3 mixture)    1030 non-null   float64\n",
      " 5   Coarse Aggregate  (component 6)(kg in a m^3 mixture)   1030 non-null   float64\n",
      " 6   Fine Aggregate (component 7)(kg in a m^3 mixture)      1030 non-null   float64\n",
      " 7   Age (day)                                              1030 non-null   int64  \n",
      " 8   Concrete compressive strength(MPa, megapascals)        1030 non-null   float64\n",
      "dtypes: float64(8), int64(1)\n",
      "memory usage: 80.5 KB\n"
     ]
    }
   ],
   "source": [
    "data.info()"
   ]
  },
  {
   "cell_type": "code",
   "execution_count": 119,
   "metadata": {},
   "outputs": [
    {
     "data": {
      "text/html": [
       "<div>\n",
       "<style scoped>\n",
       "    .dataframe tbody tr th:only-of-type {\n",
       "        vertical-align: middle;\n",
       "    }\n",
       "\n",
       "    .dataframe tbody tr th {\n",
       "        vertical-align: top;\n",
       "    }\n",
       "\n",
       "    .dataframe thead th {\n",
       "        text-align: right;\n",
       "    }\n",
       "</style>\n",
       "<table border=\"1\" class=\"dataframe\">\n",
       "  <thead>\n",
       "    <tr style=\"text-align: right;\">\n",
       "      <th></th>\n",
       "      <th>Cement (component 1)(kg in a m^3 mixture)</th>\n",
       "      <th>Blast Furnace Slag (component 2)(kg in a m^3 mixture)</th>\n",
       "      <th>Fly Ash (component 3)(kg in a m^3 mixture)</th>\n",
       "      <th>Water  (component 4)(kg in a m^3 mixture)</th>\n",
       "      <th>Superplasticizer (component 5)(kg in a m^3 mixture)</th>\n",
       "      <th>Coarse Aggregate  (component 6)(kg in a m^3 mixture)</th>\n",
       "      <th>Fine Aggregate (component 7)(kg in a m^3 mixture)</th>\n",
       "      <th>Age (day)</th>\n",
       "      <th>Concrete compressive strength(MPa, megapascals)</th>\n",
       "    </tr>\n",
       "  </thead>\n",
       "  <tbody>\n",
       "    <tr>\n",
       "      <th>count</th>\n",
       "      <td>1030.000000</td>\n",
       "      <td>1030.000000</td>\n",
       "      <td>1030.000000</td>\n",
       "      <td>1030.000000</td>\n",
       "      <td>1030.000000</td>\n",
       "      <td>1030.000000</td>\n",
       "      <td>1030.000000</td>\n",
       "      <td>1030.000000</td>\n",
       "      <td>1030.000000</td>\n",
       "    </tr>\n",
       "    <tr>\n",
       "      <th>mean</th>\n",
       "      <td>281.167864</td>\n",
       "      <td>73.895825</td>\n",
       "      <td>54.188350</td>\n",
       "      <td>181.567282</td>\n",
       "      <td>6.204660</td>\n",
       "      <td>972.918932</td>\n",
       "      <td>773.580485</td>\n",
       "      <td>45.662136</td>\n",
       "      <td>35.817961</td>\n",
       "    </tr>\n",
       "    <tr>\n",
       "      <th>std</th>\n",
       "      <td>104.506364</td>\n",
       "      <td>86.279342</td>\n",
       "      <td>63.997004</td>\n",
       "      <td>21.354219</td>\n",
       "      <td>5.973841</td>\n",
       "      <td>77.753954</td>\n",
       "      <td>80.175980</td>\n",
       "      <td>63.169912</td>\n",
       "      <td>16.705742</td>\n",
       "    </tr>\n",
       "    <tr>\n",
       "      <th>min</th>\n",
       "      <td>102.000000</td>\n",
       "      <td>0.000000</td>\n",
       "      <td>0.000000</td>\n",
       "      <td>121.800000</td>\n",
       "      <td>0.000000</td>\n",
       "      <td>801.000000</td>\n",
       "      <td>594.000000</td>\n",
       "      <td>1.000000</td>\n",
       "      <td>2.330000</td>\n",
       "    </tr>\n",
       "    <tr>\n",
       "      <th>25%</th>\n",
       "      <td>192.375000</td>\n",
       "      <td>0.000000</td>\n",
       "      <td>0.000000</td>\n",
       "      <td>164.900000</td>\n",
       "      <td>0.000000</td>\n",
       "      <td>932.000000</td>\n",
       "      <td>730.950000</td>\n",
       "      <td>7.000000</td>\n",
       "      <td>23.710000</td>\n",
       "    </tr>\n",
       "    <tr>\n",
       "      <th>50%</th>\n",
       "      <td>272.900000</td>\n",
       "      <td>22.000000</td>\n",
       "      <td>0.000000</td>\n",
       "      <td>185.000000</td>\n",
       "      <td>6.400000</td>\n",
       "      <td>968.000000</td>\n",
       "      <td>779.500000</td>\n",
       "      <td>28.000000</td>\n",
       "      <td>34.445000</td>\n",
       "    </tr>\n",
       "    <tr>\n",
       "      <th>75%</th>\n",
       "      <td>350.000000</td>\n",
       "      <td>142.950000</td>\n",
       "      <td>118.300000</td>\n",
       "      <td>192.000000</td>\n",
       "      <td>10.200000</td>\n",
       "      <td>1029.400000</td>\n",
       "      <td>824.000000</td>\n",
       "      <td>56.000000</td>\n",
       "      <td>46.135000</td>\n",
       "    </tr>\n",
       "    <tr>\n",
       "      <th>max</th>\n",
       "      <td>540.000000</td>\n",
       "      <td>359.400000</td>\n",
       "      <td>200.100000</td>\n",
       "      <td>247.000000</td>\n",
       "      <td>32.200000</td>\n",
       "      <td>1145.000000</td>\n",
       "      <td>992.600000</td>\n",
       "      <td>365.000000</td>\n",
       "      <td>82.600000</td>\n",
       "    </tr>\n",
       "  </tbody>\n",
       "</table>\n",
       "</div>"
      ],
      "text/plain": [
       "       Cement (component 1)(kg in a m^3 mixture)  \\\n",
       "count                                1030.000000   \n",
       "mean                                  281.167864   \n",
       "std                                   104.506364   \n",
       "min                                   102.000000   \n",
       "25%                                   192.375000   \n",
       "50%                                   272.900000   \n",
       "75%                                   350.000000   \n",
       "max                                   540.000000   \n",
       "\n",
       "       Blast Furnace Slag (component 2)(kg in a m^3 mixture)  \\\n",
       "count                                        1030.000000       \n",
       "mean                                           73.895825       \n",
       "std                                            86.279342       \n",
       "min                                             0.000000       \n",
       "25%                                             0.000000       \n",
       "50%                                            22.000000       \n",
       "75%                                           142.950000       \n",
       "max                                           359.400000       \n",
       "\n",
       "       Fly Ash (component 3)(kg in a m^3 mixture)  \\\n",
       "count                                 1030.000000   \n",
       "mean                                    54.188350   \n",
       "std                                     63.997004   \n",
       "min                                      0.000000   \n",
       "25%                                      0.000000   \n",
       "50%                                      0.000000   \n",
       "75%                                    118.300000   \n",
       "max                                    200.100000   \n",
       "\n",
       "       Water  (component 4)(kg in a m^3 mixture)  \\\n",
       "count                                1030.000000   \n",
       "mean                                  181.567282   \n",
       "std                                    21.354219   \n",
       "min                                   121.800000   \n",
       "25%                                   164.900000   \n",
       "50%                                   185.000000   \n",
       "75%                                   192.000000   \n",
       "max                                   247.000000   \n",
       "\n",
       "       Superplasticizer (component 5)(kg in a m^3 mixture)  \\\n",
       "count                                        1030.000000     \n",
       "mean                                            6.204660     \n",
       "std                                             5.973841     \n",
       "min                                             0.000000     \n",
       "25%                                             0.000000     \n",
       "50%                                             6.400000     \n",
       "75%                                            10.200000     \n",
       "max                                            32.200000     \n",
       "\n",
       "       Coarse Aggregate  (component 6)(kg in a m^3 mixture)  \\\n",
       "count                                        1030.000000      \n",
       "mean                                          972.918932      \n",
       "std                                            77.753954      \n",
       "min                                           801.000000      \n",
       "25%                                           932.000000      \n",
       "50%                                           968.000000      \n",
       "75%                                          1029.400000      \n",
       "max                                          1145.000000      \n",
       "\n",
       "       Fine Aggregate (component 7)(kg in a m^3 mixture)    Age (day)  \\\n",
       "count                                        1030.000000  1030.000000   \n",
       "mean                                          773.580485    45.662136   \n",
       "std                                            80.175980    63.169912   \n",
       "min                                           594.000000     1.000000   \n",
       "25%                                           730.950000     7.000000   \n",
       "50%                                           779.500000    28.000000   \n",
       "75%                                           824.000000    56.000000   \n",
       "max                                           992.600000   365.000000   \n",
       "\n",
       "       Concrete compressive strength(MPa, megapascals)   \n",
       "count                                       1030.000000  \n",
       "mean                                          35.817961  \n",
       "std                                           16.705742  \n",
       "min                                            2.330000  \n",
       "25%                                           23.710000  \n",
       "50%                                           34.445000  \n",
       "75%                                           46.135000  \n",
       "max                                           82.600000  "
      ]
     },
     "execution_count": 119,
     "metadata": {},
     "output_type": "execute_result"
    }
   ],
   "source": [
    "data.describe()"
   ]
  },
  {
   "cell_type": "markdown",
   "metadata": {},
   "source": [
    "# **Checking for null values**"
   ]
  },
  {
   "cell_type": "code",
   "execution_count": 120,
   "metadata": {
    "id": "vatOZo5M1arA",
    "outputId": "3388e51c-c5e7-4ebf-a83a-ddb4347ba911"
   },
   "outputs": [
    {
     "data": {
      "text/plain": [
       "Cement (component 1)(kg in a m^3 mixture)                0\n",
       "Blast Furnace Slag (component 2)(kg in a m^3 mixture)    0\n",
       "Fly Ash (component 3)(kg in a m^3 mixture)               0\n",
       "Water  (component 4)(kg in a m^3 mixture)                0\n",
       "Superplasticizer (component 5)(kg in a m^3 mixture)      0\n",
       "Coarse Aggregate  (component 6)(kg in a m^3 mixture)     0\n",
       "Fine Aggregate (component 7)(kg in a m^3 mixture)        0\n",
       "Age (day)                                                0\n",
       "Concrete compressive strength(MPa, megapascals)          0\n",
       "dtype: int64"
      ]
     },
     "execution_count": 120,
     "metadata": {},
     "output_type": "execute_result"
    }
   ],
   "source": [
    "data.isna().sum()"
   ]
  },
  {
   "cell_type": "markdown",
   "metadata": {},
   "source": [
    "# **Splitting and standardizing data**"
   ]
  },
  {
   "cell_type": "code",
   "execution_count": 122,
   "metadata": {
    "id": "VVxgYDBk2w0r",
    "outputId": "0f319505-2157-406d-855e-fb5655c5d1b4"
   },
   "outputs": [
    {
     "ename": "KeyError",
     "evalue": "\"['Concrete compressive strength(MPa, megapascals)'] not found in axis\"",
     "output_type": "error",
     "traceback": [
      "\u001b[0;31m---------------------------------------------------------------------------\u001b[0m",
      "\u001b[0;31mKeyError\u001b[0m                                  Traceback (most recent call last)",
      "\u001b[0;32m<ipython-input-122-e6e28376038b>\u001b[0m in \u001b[0;36m<module>\u001b[0;34m\u001b[0m\n\u001b[1;32m      1\u001b[0m \u001b[0mtrain_data\u001b[0m\u001b[0;34m=\u001b[0m\u001b[0mdata\u001b[0m\u001b[0;34m.\u001b[0m\u001b[0miloc\u001b[0m\u001b[0;34m[\u001b[0m\u001b[0;34m:\u001b[0m\u001b[0;36m516\u001b[0m\u001b[0;34m]\u001b[0m\u001b[0;34m\u001b[0m\u001b[0;34m\u001b[0m\u001b[0m\n\u001b[0;32m----> 2\u001b[0;31m \u001b[0mtrain_data\u001b[0m\u001b[0;34m.\u001b[0m\u001b[0mdrop\u001b[0m\u001b[0;34m(\u001b[0m\u001b[0;34m'Concrete compressive strength(MPa, megapascals)'\u001b[0m\u001b[0;34m,\u001b[0m\u001b[0maxis\u001b[0m\u001b[0;34m=\u001b[0m\u001b[0;36m1\u001b[0m\u001b[0;34m,\u001b[0m\u001b[0minplace\u001b[0m\u001b[0;34m=\u001b[0m\u001b[0;32mTrue\u001b[0m\u001b[0;34m)\u001b[0m\u001b[0;34m\u001b[0m\u001b[0;34m\u001b[0m\u001b[0m\n\u001b[0m\u001b[1;32m      3\u001b[0m \u001b[0mmean\u001b[0m\u001b[0;34m=\u001b[0m\u001b[0mtrain_data\u001b[0m\u001b[0;34m.\u001b[0m\u001b[0mmean\u001b[0m\u001b[0;34m(\u001b[0m\u001b[0maxis\u001b[0m\u001b[0;34m=\u001b[0m\u001b[0;36m0\u001b[0m\u001b[0;34m)\u001b[0m\u001b[0;34m\u001b[0m\u001b[0;34m\u001b[0m\u001b[0m\n\u001b[1;32m      4\u001b[0m \u001b[0mstd\u001b[0m\u001b[0;34m=\u001b[0m\u001b[0mtrain_data\u001b[0m\u001b[0;34m.\u001b[0m\u001b[0mstd\u001b[0m\u001b[0;34m(\u001b[0m\u001b[0maxis\u001b[0m\u001b[0;34m=\u001b[0m\u001b[0;36m0\u001b[0m\u001b[0;34m)\u001b[0m\u001b[0;34m\u001b[0m\u001b[0;34m\u001b[0m\u001b[0m\n\u001b[1;32m      5\u001b[0m \u001b[0mtrain_data\u001b[0m\u001b[0;34m-=\u001b[0m\u001b[0mmean\u001b[0m\u001b[0;34m\u001b[0m\u001b[0;34m\u001b[0m\u001b[0m\n",
      "\u001b[0;32m~/.local/lib/python3.8/site-packages/pandas/core/frame.py\u001b[0m in \u001b[0;36mdrop\u001b[0;34m(self, labels, axis, index, columns, level, inplace, errors)\u001b[0m\n\u001b[1;32m   4303\u001b[0m                 \u001b[0mweight\u001b[0m  \u001b[0;36m1.0\u001b[0m     \u001b[0;36m0.8\u001b[0m\u001b[0;34m\u001b[0m\u001b[0;34m\u001b[0m\u001b[0m\n\u001b[1;32m   4304\u001b[0m         \"\"\"\n\u001b[0;32m-> 4305\u001b[0;31m         return super().drop(\n\u001b[0m\u001b[1;32m   4306\u001b[0m             \u001b[0mlabels\u001b[0m\u001b[0;34m=\u001b[0m\u001b[0mlabels\u001b[0m\u001b[0;34m,\u001b[0m\u001b[0;34m\u001b[0m\u001b[0;34m\u001b[0m\u001b[0m\n\u001b[1;32m   4307\u001b[0m             \u001b[0maxis\u001b[0m\u001b[0;34m=\u001b[0m\u001b[0maxis\u001b[0m\u001b[0;34m,\u001b[0m\u001b[0;34m\u001b[0m\u001b[0;34m\u001b[0m\u001b[0m\n",
      "\u001b[0;32m~/.local/lib/python3.8/site-packages/pandas/core/generic.py\u001b[0m in \u001b[0;36mdrop\u001b[0;34m(self, labels, axis, index, columns, level, inplace, errors)\u001b[0m\n\u001b[1;32m   4150\u001b[0m         \u001b[0;32mfor\u001b[0m \u001b[0maxis\u001b[0m\u001b[0;34m,\u001b[0m \u001b[0mlabels\u001b[0m \u001b[0;32min\u001b[0m \u001b[0maxes\u001b[0m\u001b[0;34m.\u001b[0m\u001b[0mitems\u001b[0m\u001b[0;34m(\u001b[0m\u001b[0;34m)\u001b[0m\u001b[0;34m:\u001b[0m\u001b[0;34m\u001b[0m\u001b[0;34m\u001b[0m\u001b[0m\n\u001b[1;32m   4151\u001b[0m             \u001b[0;32mif\u001b[0m \u001b[0mlabels\u001b[0m \u001b[0;32mis\u001b[0m \u001b[0;32mnot\u001b[0m \u001b[0;32mNone\u001b[0m\u001b[0;34m:\u001b[0m\u001b[0;34m\u001b[0m\u001b[0;34m\u001b[0m\u001b[0m\n\u001b[0;32m-> 4152\u001b[0;31m                 \u001b[0mobj\u001b[0m \u001b[0;34m=\u001b[0m \u001b[0mobj\u001b[0m\u001b[0;34m.\u001b[0m\u001b[0m_drop_axis\u001b[0m\u001b[0;34m(\u001b[0m\u001b[0mlabels\u001b[0m\u001b[0;34m,\u001b[0m \u001b[0maxis\u001b[0m\u001b[0;34m,\u001b[0m \u001b[0mlevel\u001b[0m\u001b[0;34m=\u001b[0m\u001b[0mlevel\u001b[0m\u001b[0;34m,\u001b[0m \u001b[0merrors\u001b[0m\u001b[0;34m=\u001b[0m\u001b[0merrors\u001b[0m\u001b[0;34m)\u001b[0m\u001b[0;34m\u001b[0m\u001b[0;34m\u001b[0m\u001b[0m\n\u001b[0m\u001b[1;32m   4153\u001b[0m \u001b[0;34m\u001b[0m\u001b[0m\n\u001b[1;32m   4154\u001b[0m         \u001b[0;32mif\u001b[0m \u001b[0minplace\u001b[0m\u001b[0;34m:\u001b[0m\u001b[0;34m\u001b[0m\u001b[0;34m\u001b[0m\u001b[0m\n",
      "\u001b[0;32m~/.local/lib/python3.8/site-packages/pandas/core/generic.py\u001b[0m in \u001b[0;36m_drop_axis\u001b[0;34m(self, labels, axis, level, errors)\u001b[0m\n\u001b[1;32m   4185\u001b[0m                 \u001b[0mnew_axis\u001b[0m \u001b[0;34m=\u001b[0m \u001b[0maxis\u001b[0m\u001b[0;34m.\u001b[0m\u001b[0mdrop\u001b[0m\u001b[0;34m(\u001b[0m\u001b[0mlabels\u001b[0m\u001b[0;34m,\u001b[0m \u001b[0mlevel\u001b[0m\u001b[0;34m=\u001b[0m\u001b[0mlevel\u001b[0m\u001b[0;34m,\u001b[0m \u001b[0merrors\u001b[0m\u001b[0;34m=\u001b[0m\u001b[0merrors\u001b[0m\u001b[0;34m)\u001b[0m\u001b[0;34m\u001b[0m\u001b[0;34m\u001b[0m\u001b[0m\n\u001b[1;32m   4186\u001b[0m             \u001b[0;32melse\u001b[0m\u001b[0;34m:\u001b[0m\u001b[0;34m\u001b[0m\u001b[0;34m\u001b[0m\u001b[0m\n\u001b[0;32m-> 4187\u001b[0;31m                 \u001b[0mnew_axis\u001b[0m \u001b[0;34m=\u001b[0m \u001b[0maxis\u001b[0m\u001b[0;34m.\u001b[0m\u001b[0mdrop\u001b[0m\u001b[0;34m(\u001b[0m\u001b[0mlabels\u001b[0m\u001b[0;34m,\u001b[0m \u001b[0merrors\u001b[0m\u001b[0;34m=\u001b[0m\u001b[0merrors\u001b[0m\u001b[0;34m)\u001b[0m\u001b[0;34m\u001b[0m\u001b[0;34m\u001b[0m\u001b[0m\n\u001b[0m\u001b[1;32m   4188\u001b[0m             \u001b[0mresult\u001b[0m \u001b[0;34m=\u001b[0m \u001b[0mself\u001b[0m\u001b[0;34m.\u001b[0m\u001b[0mreindex\u001b[0m\u001b[0;34m(\u001b[0m\u001b[0;34m**\u001b[0m\u001b[0;34m{\u001b[0m\u001b[0maxis_name\u001b[0m\u001b[0;34m:\u001b[0m \u001b[0mnew_axis\u001b[0m\u001b[0;34m}\u001b[0m\u001b[0;34m)\u001b[0m\u001b[0;34m\u001b[0m\u001b[0;34m\u001b[0m\u001b[0m\n\u001b[1;32m   4189\u001b[0m \u001b[0;34m\u001b[0m\u001b[0m\n",
      "\u001b[0;32m~/.local/lib/python3.8/site-packages/pandas/core/indexes/base.py\u001b[0m in \u001b[0;36mdrop\u001b[0;34m(self, labels, errors)\u001b[0m\n\u001b[1;32m   5589\u001b[0m         \u001b[0;32mif\u001b[0m \u001b[0mmask\u001b[0m\u001b[0;34m.\u001b[0m\u001b[0many\u001b[0m\u001b[0;34m(\u001b[0m\u001b[0;34m)\u001b[0m\u001b[0;34m:\u001b[0m\u001b[0;34m\u001b[0m\u001b[0;34m\u001b[0m\u001b[0m\n\u001b[1;32m   5590\u001b[0m             \u001b[0;32mif\u001b[0m \u001b[0merrors\u001b[0m \u001b[0;34m!=\u001b[0m \u001b[0;34m\"ignore\"\u001b[0m\u001b[0;34m:\u001b[0m\u001b[0;34m\u001b[0m\u001b[0;34m\u001b[0m\u001b[0m\n\u001b[0;32m-> 5591\u001b[0;31m                 \u001b[0;32mraise\u001b[0m \u001b[0mKeyError\u001b[0m\u001b[0;34m(\u001b[0m\u001b[0;34mf\"{labels[mask]} not found in axis\"\u001b[0m\u001b[0;34m)\u001b[0m\u001b[0;34m\u001b[0m\u001b[0;34m\u001b[0m\u001b[0m\n\u001b[0m\u001b[1;32m   5592\u001b[0m             \u001b[0mindexer\u001b[0m \u001b[0;34m=\u001b[0m \u001b[0mindexer\u001b[0m\u001b[0;34m[\u001b[0m\u001b[0;34m~\u001b[0m\u001b[0mmask\u001b[0m\u001b[0;34m]\u001b[0m\u001b[0;34m\u001b[0m\u001b[0;34m\u001b[0m\u001b[0m\n\u001b[1;32m   5593\u001b[0m         \u001b[0;32mreturn\u001b[0m \u001b[0mself\u001b[0m\u001b[0;34m.\u001b[0m\u001b[0mdelete\u001b[0m\u001b[0;34m(\u001b[0m\u001b[0mindexer\u001b[0m\u001b[0;34m)\u001b[0m\u001b[0;34m\u001b[0m\u001b[0;34m\u001b[0m\u001b[0m\n",
      "\u001b[0;31mKeyError\u001b[0m: \"['Concrete compressive strength(MPa, megapascals)'] not found in axis\""
     ]
    }
   ],
   "source": [
    "train_data=data.iloc[:516]\n",
    "train_data.drop('Concrete compressive strength(MPa, megapascals)',axis=1,inplace=True)\n",
    "mean=train_data.mean(axis=0)\n",
    "std=train_data.std(axis=0)\n",
    "train_data-=mean\n",
    "train_data/=std\n",
    "train_targets=data['Concrete compressive strength(MPa, megapascals)'].iloc[:516]"
   ]
  },
  {
   "cell_type": "code",
   "execution_count": 77,
   "metadata": {
    "id": "tSVT4qbR7X6A",
    "outputId": "107d33e2-a571-4138-b86c-2f36f02dd5e7"
   },
   "outputs": [],
   "source": [
    "test_data=data.iloc[516:826]\n",
    "test_data.drop('concrete_compressive_strength',axis=1,inplace=True)\n",
    "test_data-=mean\n",
    "test_data/=std\n",
    "test_targets=data['concrete_compressive_strength'].iloc[516:826]"
   ]
  },
  {
   "cell_type": "code",
   "execution_count": 78,
   "metadata": {
    "id": "NOclQcDc8BLe",
    "outputId": "732e152f-d9d0-4352-c26d-c7296e721f7f"
   },
   "outputs": [],
   "source": [
    "val_data=data.iloc[826:]\n",
    "val_data.drop('concrete_compressive_strength',axis=1,inplace=True)\n",
    "val_data-=mean\n",
    "val_data/=std\n",
    "val_targets=data['concrete_compressive_strength'].iloc[826:]"
   ]
  },
  {
   "cell_type": "markdown",
   "metadata": {},
   "source": [
    "# **Creating model**"
   ]
  },
  {
   "cell_type": "code",
   "execution_count": 79,
   "metadata": {
    "id": "A_n3LkeP8agp"
   },
   "outputs": [],
   "source": [
    "model=models.Sequential()\n",
    "model.add(layers.Dropout(0.1))\n",
    "model.add(layers.Dense(100,activation='tanh',input_shape=(train_data.iloc[1].shape)))\n",
    "model.add(layers.Dropout(0.7))\n",
    "model.add(layers.Dense(5,activation='tanh'))\n",
    "model.add(layers.Dropout(0.2))\n",
    "\n",
    "model.add(layers.Dense(1))\n",
    "model.compile(optimizer='rmsprop',loss='mse',metrics=['mae'])\n",
    "\n"
   ]
  },
  {
   "cell_type": "code",
   "execution_count": 80,
   "metadata": {
    "id": "Kwg9iLyVLPN_",
    "outputId": "e18eae50-9776-48cd-9a14-a15193f0d097"
   },
   "outputs": [
    {
     "name": "stdout",
     "output_type": "stream",
     "text": [
      "Epoch 1/100\n",
      "516/516 [==============================] - 2s 2ms/step - loss: 1511.2563 - mae: 34.9964 - val_loss: 1426.5920 - val_mae: 33.4249\n",
      "Epoch 2/100\n",
      "516/516 [==============================] - 1s 3ms/step - loss: 1320.7850 - mae: 32.2335 - val_loss: 1242.1833 - val_mae: 30.5948\n",
      "Epoch 3/100\n",
      "516/516 [==============================] - 1s 2ms/step - loss: 1043.2554 - mae: 28.2762 - val_loss: 1101.2412 - val_mae: 28.3246\n",
      "Epoch 4/100\n",
      "516/516 [==============================] - 1s 2ms/step - loss: 933.4456 - mae: 26.2294 - val_loss: 975.7859 - val_mae: 26.2680\n",
      "Epoch 5/100\n",
      "516/516 [==============================] - 1s 2ms/step - loss: 821.3704 - mae: 23.6046 - val_loss: 864.5539 - val_mae: 24.4463\n",
      "Epoch 6/100\n",
      "516/516 [==============================] - 1s 2ms/step - loss: 723.1987 - mae: 21.9796 - val_loss: 767.4724 - val_mae: 22.8352\n",
      "Epoch 7/100\n",
      "516/516 [==============================] - 1s 2ms/step - loss: 650.0019 - mae: 20.6697 - val_loss: 683.2959 - val_mae: 21.4191\n",
      "Epoch 8/100\n",
      "516/516 [==============================] - 1s 2ms/step - loss: 579.2085 - mae: 19.1725 - val_loss: 612.8462 - val_mae: 20.2136\n",
      "Epoch 9/100\n",
      "516/516 [==============================] - 1s 3ms/step - loss: 509.3226 - mae: 17.3505 - val_loss: 553.0577 - val_mae: 19.1383\n",
      "Epoch 10/100\n",
      "516/516 [==============================] - 1s 2ms/step - loss: 527.4265 - mae: 18.3835 - val_loss: 506.1975 - val_mae: 18.2590\n",
      "Epoch 11/100\n",
      "516/516 [==============================] - 2s 3ms/step - loss: 426.2303 - mae: 16.3737 - val_loss: 465.7623 - val_mae: 17.4724\n",
      "Epoch 12/100\n",
      "516/516 [==============================] - 1s 2ms/step - loss: 449.6262 - mae: 16.7767 - val_loss: 434.6964 - val_mae: 16.8622\n",
      "Epoch 13/100\n",
      "516/516 [==============================] - 1s 2ms/step - loss: 392.9890 - mae: 15.6232 - val_loss: 410.7361 - val_mae: 16.3807\n",
      "Epoch 14/100\n",
      "516/516 [==============================] - 1s 2ms/step - loss: 367.8111 - mae: 15.0170 - val_loss: 390.4599 - val_mae: 15.9898\n",
      "Epoch 15/100\n",
      "516/516 [==============================] - 1s 2ms/step - loss: 333.5654 - mae: 14.4408 - val_loss: 375.9475 - val_mae: 15.7056\n",
      "Epoch 16/100\n",
      "516/516 [==============================] - 1s 2ms/step - loss: 394.2416 - mae: 15.9257 - val_loss: 364.5710 - val_mae: 15.4755\n",
      "Epoch 17/100\n",
      "516/516 [==============================] - 1s 2ms/step - loss: 283.2529 - mae: 13.1877 - val_loss: 354.4985 - val_mae: 15.2784\n",
      "Epoch 18/100\n",
      "516/516 [==============================] - 1s 2ms/step - loss: 365.9718 - mae: 14.8046 - val_loss: 346.8657 - val_mae: 15.1271\n",
      "Epoch 19/100\n",
      "516/516 [==============================] - 1s 2ms/step - loss: 336.8600 - mae: 14.3522 - val_loss: 340.6547 - val_mae: 15.0074\n",
      "Epoch 20/100\n",
      "516/516 [==============================] - 1s 3ms/step - loss: 325.6254 - mae: 14.1358 - val_loss: 335.7955 - val_mae: 14.9158\n",
      "Epoch 21/100\n",
      "516/516 [==============================] - 1s 2ms/step - loss: 353.2017 - mae: 15.1654 - val_loss: 332.1676 - val_mae: 14.8461\n",
      "Epoch 22/100\n",
      "516/516 [==============================] - 1s 2ms/step - loss: 326.5792 - mae: 14.5959 - val_loss: 328.9269 - val_mae: 14.7874\n",
      "Epoch 23/100\n",
      "516/516 [==============================] - 1s 2ms/step - loss: 288.2702 - mae: 13.1694 - val_loss: 319.6402 - val_mae: 14.5919\n",
      "Epoch 24/100\n",
      "516/516 [==============================] - 1s 2ms/step - loss: 309.0870 - mae: 13.7754 - val_loss: 301.2636 - val_mae: 14.0421\n",
      "Epoch 25/100\n",
      "516/516 [==============================] - 1s 2ms/step - loss: 297.5110 - mae: 13.4830 - val_loss: 291.5825 - val_mae: 13.7839\n",
      "Epoch 26/100\n",
      "516/516 [==============================] - 1s 2ms/step - loss: 324.2821 - mae: 14.0525 - val_loss: 284.6848 - val_mae: 13.5474\n",
      "Epoch 27/100\n",
      "516/516 [==============================] - 1s 3ms/step - loss: 273.8770 - mae: 12.9579 - val_loss: 275.2853 - val_mae: 13.3264\n",
      "Epoch 28/100\n",
      "516/516 [==============================] - 1s 3ms/step - loss: 334.0992 - mae: 14.5375 - val_loss: 269.2383 - val_mae: 13.0387\n",
      "Epoch 29/100\n",
      "516/516 [==============================] - 2s 4ms/step - loss: 293.1545 - mae: 13.3127 - val_loss: 247.9675 - val_mae: 12.4045\n",
      "Epoch 30/100\n",
      "516/516 [==============================] - 1s 3ms/step - loss: 262.6476 - mae: 12.6785 - val_loss: 235.6702 - val_mae: 11.9428\n",
      "Epoch 31/100\n",
      "516/516 [==============================] - 2s 3ms/step - loss: 284.7237 - mae: 13.3331 - val_loss: 224.0146 - val_mae: 11.4072\n",
      "Epoch 32/100\n",
      "516/516 [==============================] - 2s 4ms/step - loss: 243.7217 - mae: 12.0827 - val_loss: 212.1374 - val_mae: 11.0369\n",
      "Epoch 33/100\n",
      "516/516 [==============================] - 1s 2ms/step - loss: 252.0315 - mae: 12.1323 - val_loss: 203.4515 - val_mae: 10.8371\n",
      "Epoch 34/100\n",
      "516/516 [==============================] - 1s 1ms/step - loss: 241.8822 - mae: 12.0253 - val_loss: 196.0905 - val_mae: 10.6848\n",
      "Epoch 35/100\n",
      "516/516 [==============================] - 1s 1ms/step - loss: 228.0588 - mae: 11.6033 - val_loss: 186.8388 - val_mae: 10.3213\n",
      "Epoch 36/100\n",
      "516/516 [==============================] - 1s 1ms/step - loss: 238.2559 - mae: 11.9454 - val_loss: 182.4503 - val_mae: 10.2822\n",
      "Epoch 37/100\n",
      "516/516 [==============================] - 1s 1ms/step - loss: 206.8202 - mae: 11.0310 - val_loss: 177.5251 - val_mae: 10.1445\n",
      "Epoch 38/100\n",
      "516/516 [==============================] - 1s 2ms/step - loss: 224.3250 - mae: 11.5282 - val_loss: 170.4445 - val_mae: 9.8739\n",
      "Epoch 39/100\n",
      "516/516 [==============================] - 1s 2ms/step - loss: 221.7840 - mae: 11.5955 - val_loss: 166.9881 - val_mae: 9.7513\n",
      "Epoch 40/100\n",
      "516/516 [==============================] - 1s 1ms/step - loss: 224.3298 - mae: 11.5506 - val_loss: 163.7809 - val_mae: 9.5991\n",
      "Epoch 41/100\n",
      "516/516 [==============================] - 1s 1ms/step - loss: 199.3567 - mae: 10.7250 - val_loss: 157.0452 - val_mae: 9.2825\n",
      "Epoch 42/100\n",
      "516/516 [==============================] - 1s 1ms/step - loss: 206.7891 - mae: 11.2416 - val_loss: 156.4267 - val_mae: 9.3848\n",
      "Epoch 43/100\n",
      "516/516 [==============================] - 1s 2ms/step - loss: 182.5355 - mae: 10.7348 - val_loss: 151.0458 - val_mae: 9.1878\n",
      "Epoch 44/100\n",
      "516/516 [==============================] - 1s 1ms/step - loss: 195.0739 - mae: 10.5487 - val_loss: 146.8844 - val_mae: 8.9011\n",
      "Epoch 45/100\n",
      "516/516 [==============================] - 1s 2ms/step - loss: 211.2388 - mae: 10.8706 - val_loss: 148.0582 - val_mae: 9.1475\n",
      "Epoch 46/100\n",
      "516/516 [==============================] - 2s 4ms/step - loss: 210.0289 - mae: 11.3151 - val_loss: 148.4712 - val_mae: 9.1977\n",
      "Epoch 47/100\n",
      "516/516 [==============================] - 1s 1ms/step - loss: 173.3989 - mae: 10.2822 - val_loss: 144.8221 - val_mae: 9.0403\n",
      "Epoch 48/100\n",
      "516/516 [==============================] - 1s 1ms/step - loss: 173.8079 - mae: 10.4885 - val_loss: 138.8049 - val_mae: 8.7469\n",
      "Epoch 49/100\n",
      "516/516 [==============================] - 1s 1ms/step - loss: 205.5560 - mae: 11.0813 - val_loss: 135.7894 - val_mae: 8.6381\n",
      "Epoch 50/100\n",
      "516/516 [==============================] - 1s 1ms/step - loss: 211.6427 - mae: 11.3774 - val_loss: 138.7114 - val_mae: 8.9186\n",
      "Epoch 51/100\n",
      "516/516 [==============================] - 1s 2ms/step - loss: 195.8085 - mae: 10.6445 - val_loss: 135.5580 - val_mae: 8.7907\n",
      "Epoch 52/100\n",
      "516/516 [==============================] - 1s 2ms/step - loss: 167.5538 - mae: 9.7790 - val_loss: 137.7450 - val_mae: 9.0198\n",
      "Epoch 53/100\n",
      "516/516 [==============================] - 1s 2ms/step - loss: 155.4628 - mae: 9.7970 - val_loss: 138.4187 - val_mae: 9.0725\n",
      "Epoch 54/100\n",
      "516/516 [==============================] - 1s 1ms/step - loss: 206.2456 - mae: 11.3729 - val_loss: 131.0331 - val_mae: 8.5964\n",
      "Epoch 55/100\n",
      "516/516 [==============================] - 1s 1ms/step - loss: 181.0425 - mae: 10.4142 - val_loss: 129.8532 - val_mae: 8.5791\n",
      "Epoch 56/100\n",
      "516/516 [==============================] - 1s 2ms/step - loss: 191.2642 - mae: 10.1487 - val_loss: 130.3532 - val_mae: 8.5803\n",
      "Epoch 57/100\n",
      "516/516 [==============================] - 2s 4ms/step - loss: 191.6163 - mae: 10.8347 - val_loss: 129.3429 - val_mae: 8.6308\n",
      "Epoch 58/100\n",
      "516/516 [==============================] - 1s 2ms/step - loss: 191.9632 - mae: 10.5306 - val_loss: 125.9938 - val_mae: 8.5113\n",
      "Epoch 59/100\n",
      "516/516 [==============================] - 3s 5ms/step - loss: 166.9166 - mae: 9.9501 - val_loss: 128.7523 - val_mae: 8.6645\n"
     ]
    },
    {
     "name": "stdout",
     "output_type": "stream",
     "text": [
      "Epoch 60/100\n",
      "516/516 [==============================] - 1s 2ms/step - loss: 169.0409 - mae: 10.0414 - val_loss: 128.5460 - val_mae: 8.7103\n",
      "Epoch 61/100\n",
      "516/516 [==============================] - 2s 5ms/step - loss: 162.3283 - mae: 10.1807 - val_loss: 123.1260 - val_mae: 8.3389\n",
      "Epoch 62/100\n",
      "516/516 [==============================] - 2s 3ms/step - loss: 178.8767 - mae: 10.4281 - val_loss: 121.8256 - val_mae: 8.3216\n",
      "Epoch 63/100\n",
      "516/516 [==============================] - 1s 2ms/step - loss: 190.8539 - mae: 10.5703 - val_loss: 123.9411 - val_mae: 8.5125\n",
      "Epoch 64/100\n",
      "516/516 [==============================] - 1s 1ms/step - loss: 150.5918 - mae: 9.4907 - val_loss: 121.8516 - val_mae: 8.4605\n",
      "Epoch 65/100\n",
      "516/516 [==============================] - 1s 1ms/step - loss: 158.1982 - mae: 9.6397 - val_loss: 121.6024 - val_mae: 8.3510\n",
      "Epoch 66/100\n",
      "516/516 [==============================] - 1s 1ms/step - loss: 172.7268 - mae: 10.2945 - val_loss: 118.0347 - val_mae: 8.2508\n",
      "Epoch 67/100\n",
      "516/516 [==============================] - 1s 2ms/step - loss: 178.5064 - mae: 10.4182 - val_loss: 121.3307 - val_mae: 8.4127\n",
      "Epoch 68/100\n",
      "516/516 [==============================] - 1s 1ms/step - loss: 181.5620 - mae: 10.5835 - val_loss: 120.7743 - val_mae: 8.3798\n",
      "Epoch 69/100\n",
      "516/516 [==============================] - 1s 2ms/step - loss: 190.2140 - mae: 10.4933 - val_loss: 115.4789 - val_mae: 7.9878\n",
      "Epoch 70/100\n",
      "516/516 [==============================] - 1s 1ms/step - loss: 165.8615 - mae: 9.8189 - val_loss: 115.2822 - val_mae: 8.0310\n",
      "Epoch 71/100\n",
      "516/516 [==============================] - 1s 1ms/step - loss: 167.7837 - mae: 9.9544 - val_loss: 113.1207 - val_mae: 7.9629\n",
      "Epoch 72/100\n",
      "516/516 [==============================] - 1s 2ms/step - loss: 167.1344 - mae: 9.6810 - val_loss: 109.8907 - val_mae: 7.7552\n",
      "Epoch 73/100\n",
      "516/516 [==============================] - 1s 2ms/step - loss: 193.1004 - mae: 10.8453 - val_loss: 110.6400 - val_mae: 7.8737\n",
      "Epoch 74/100\n",
      "516/516 [==============================] - 1s 1ms/step - loss: 157.4365 - mae: 9.5696 - val_loss: 115.3102 - val_mae: 8.2356\n",
      "Epoch 75/100\n",
      "516/516 [==============================] - 1s 2ms/step - loss: 175.8871 - mae: 10.5465 - val_loss: 111.5842 - val_mae: 8.0018\n",
      "Epoch 76/100\n",
      "516/516 [==============================] - 1s 2ms/step - loss: 173.5985 - mae: 10.3590 - val_loss: 112.9048 - val_mae: 8.0872\n",
      "Epoch 77/100\n",
      "516/516 [==============================] - 1s 1ms/step - loss: 156.0728 - mae: 9.8417 - val_loss: 110.8303 - val_mae: 7.9388\n",
      "Epoch 78/100\n",
      "516/516 [==============================] - 1s 1ms/step - loss: 187.7574 - mae: 10.5049 - val_loss: 111.3487 - val_mae: 8.0025\n",
      "Epoch 79/100\n",
      "516/516 [==============================] - 1s 1ms/step - loss: 164.5088 - mae: 10.1651 - val_loss: 113.7348 - val_mae: 8.0712\n",
      "Epoch 80/100\n",
      "516/516 [==============================] - 1s 1ms/step - loss: 168.6333 - mae: 10.1694 - val_loss: 111.0972 - val_mae: 7.9277\n",
      "Epoch 81/100\n",
      "516/516 [==============================] - 1s 1ms/step - loss: 175.7826 - mae: 10.3102 - val_loss: 110.8429 - val_mae: 8.0268\n",
      "Epoch 82/100\n",
      "516/516 [==============================] - 2s 4ms/step - loss: 158.0343 - mae: 9.5591 - val_loss: 107.8399 - val_mae: 7.8126\n",
      "Epoch 83/100\n",
      "516/516 [==============================] - 2s 4ms/step - loss: 156.8639 - mae: 9.7283 - val_loss: 112.7329 - val_mae: 8.2514\n",
      "Epoch 84/100\n",
      "516/516 [==============================] - 1s 2ms/step - loss: 148.5131 - mae: 9.3487 - val_loss: 111.0950 - val_mae: 8.1167\n",
      "Epoch 85/100\n",
      "516/516 [==============================] - 1s 2ms/step - loss: 169.9473 - mae: 10.0343 - val_loss: 109.7501 - val_mae: 7.9840\n",
      "Epoch 86/100\n",
      "516/516 [==============================] - 1s 2ms/step - loss: 170.8543 - mae: 9.9221 - val_loss: 104.5132 - val_mae: 7.7261\n",
      "Epoch 87/100\n",
      "516/516 [==============================] - 1s 2ms/step - loss: 156.4478 - mae: 9.8431 - val_loss: 110.2907 - val_mae: 8.0100\n",
      "Epoch 88/100\n",
      "516/516 [==============================] - 1s 2ms/step - loss: 155.6007 - mae: 9.9131 - val_loss: 113.9281 - val_mae: 8.2551\n",
      "Epoch 89/100\n",
      "516/516 [==============================] - 1s 2ms/step - loss: 151.7749 - mae: 9.6337 - val_loss: 108.0890 - val_mae: 7.9375\n",
      "Epoch 90/100\n",
      "516/516 [==============================] - 1s 2ms/step - loss: 166.7125 - mae: 9.9599 - val_loss: 106.3414 - val_mae: 7.8817\n",
      "Epoch 91/100\n",
      "516/516 [==============================] - 2s 3ms/step - loss: 162.9892 - mae: 9.9390 - val_loss: 105.5934 - val_mae: 7.9022\n",
      "Epoch 92/100\n",
      "516/516 [==============================] - 1s 2ms/step - loss: 154.3145 - mae: 9.3369 - val_loss: 105.5360 - val_mae: 7.9009\n",
      "Epoch 93/100\n",
      "516/516 [==============================] - 1s 2ms/step - loss: 159.9077 - mae: 9.6271 - val_loss: 101.0141 - val_mae: 7.5292\n",
      "Epoch 94/100\n",
      "516/516 [==============================] - 1s 2ms/step - loss: 156.1705 - mae: 9.7649 - val_loss: 100.3128 - val_mae: 7.5555\n",
      "Epoch 95/100\n",
      "516/516 [==============================] - 2s 3ms/step - loss: 158.3873 - mae: 9.6823 - val_loss: 104.5168 - val_mae: 7.8896\n",
      "Epoch 96/100\n",
      "516/516 [==============================] - 1s 3ms/step - loss: 165.0049 - mae: 9.8232 - val_loss: 106.3963 - val_mae: 7.9008\n",
      "Epoch 97/100\n",
      "516/516 [==============================] - 1s 2ms/step - loss: 166.4985 - mae: 10.0473 - val_loss: 98.8296 - val_mae: 7.4556\n",
      "Epoch 98/100\n",
      "516/516 [==============================] - 1s 2ms/step - loss: 140.8280 - mae: 9.1839 - val_loss: 99.1823 - val_mae: 7.6088\n",
      "Epoch 99/100\n",
      "516/516 [==============================] - 1s 1ms/step - loss: 151.1539 - mae: 9.4414 - val_loss: 100.1315 - val_mae: 7.6385\n",
      "Epoch 100/100\n",
      "516/516 [==============================] - 1s 2ms/step - loss: 173.9780 - mae: 10.3133 - val_loss: 98.6967 - val_mae: 7.5082\n"
     ]
    },
    {
     "data": {
      "text/plain": [
       "<tensorflow.python.keras.callbacks.History at 0x7fb0f40c6d00>"
      ]
     },
     "execution_count": 80,
     "metadata": {},
     "output_type": "execute_result"
    }
   ],
   "source": [
    "model.fit(train_data,train_targets,epochs=100,batch_size=1,validation_data=(val_data,val_targets))"
   ]
  },
  {
   "cell_type": "markdown",
   "metadata": {},
   "source": [
    "# **Evaluating on test data**"
   ]
  },
  {
   "cell_type": "code",
   "execution_count": 81,
   "metadata": {
    "id": "5Bj9gv3G9di3",
    "outputId": "a75c894a-9dae-4050-e1bb-4989aed7afcf"
   },
   "outputs": [
    {
     "name": "stdout",
     "output_type": "stream",
     "text": [
      "10/10 [==============================] - 0s 2ms/step - loss: 79.7984 - mae: 6.4826\n"
     ]
    },
    {
     "data": {
      "text/plain": [
       "[79.79843139648438, 6.482641696929932]"
      ]
     },
     "execution_count": 81,
     "metadata": {},
     "output_type": "execute_result"
    }
   ],
   "source": [
    "model.evaluate(test_data,test_targets)"
   ]
  },
  {
   "cell_type": "markdown",
   "metadata": {},
   "source": [
    "# *Finally some prediction*"
   ]
  },
  {
   "cell_type": "code",
   "execution_count": 82,
   "metadata": {
    "id": "h1eWqCvx-069",
    "outputId": "026a0374-88ce-4ca8-9457-dea35f410b34"
   },
   "outputs": [
    {
     "data": {
      "text/plain": [
       "array([48.101814], dtype=float32)"
      ]
     },
     "execution_count": 82,
     "metadata": {},
     "output_type": "execute_result"
    }
   ],
   "source": [
    "pred=model.predict(test_data)\n",
    "pred[7]"
   ]
  },
  {
   "cell_type": "code",
   "execution_count": 83,
   "metadata": {
    "id": "CqqLbMYM_SDO",
    "outputId": "d9f266fc-8a89-4df3-9318-764a63e868cd"
   },
   "outputs": [
    {
     "data": {
      "text/plain": [
       "59.3"
      ]
     },
     "execution_count": 83,
     "metadata": {},
     "output_type": "execute_result"
    }
   ],
   "source": [
    "test_targets.iloc[7]"
   ]
  },
  {
   "cell_type": "code",
   "execution_count": null,
   "metadata": {
    "id": "QbYlJ4KSE2da"
   },
   "outputs": [],
   "source": []
  }
 ],
 "metadata": {
  "kernelspec": {
   "display_name": "Python 3",
   "language": "python",
   "name": "python3"
  },
  "language_info": {
   "codemirror_mode": {
    "name": "ipython",
    "version": 3
   },
   "file_extension": ".py",
   "mimetype": "text/x-python",
   "name": "python",
   "nbconvert_exporter": "python",
   "pygments_lexer": "ipython3",
   "version": "3.8.5"
  }
 },
 "nbformat": 4,
 "nbformat_minor": 4
}
