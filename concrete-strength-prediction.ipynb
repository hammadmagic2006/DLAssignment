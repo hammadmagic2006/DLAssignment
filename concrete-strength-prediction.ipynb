{
 "cells": [
  {
   "cell_type": "markdown",
   "metadata": {},
   "source": [
    "# **Importing Libraries**"
   ]
  },
  {
   "cell_type": "code",
   "execution_count": 1,
   "metadata": {
    "id": "P1KKN0UI0b1a"
   },
   "outputs": [],
   "source": [
    "import numpy as np\n",
    "import pandas as pd\n",
    "from tensorflow.keras import models,layers\n"
   ]
  },
  {
   "cell_type": "markdown",
   "metadata": {},
   "source": [
    "# **Loading and shuffling data**"
   ]
  },
  {
   "cell_type": "code",
   "execution_count": 2,
   "metadata": {
    "id": "vhacFkdO1TdJ",
    "outputId": "40047f95-0678-4b89-de99-9f6e0baa5057"
   },
   "outputs": [],
   "source": [
    "data=pd.read_csv('/home/hammad/my_project_dir/Concrete_Data.csv')\n",
    "data.loc[43]\n",
    "data=data.sample(frac=1)"
   ]
  },
  {
   "cell_type": "code",
   "execution_count": 3,
   "metadata": {},
   "outputs": [
    {
     "name": "stdout",
     "output_type": "stream",
     "text": [
      "Index(['Cement (component 1)(kg in a m^3 mixture)',\n",
      "       'Blast Furnace Slag (component 2)(kg in a m^3 mixture)',\n",
      "       'Fly Ash (component 3)(kg in a m^3 mixture)',\n",
      "       'Water  (component 4)(kg in a m^3 mixture)',\n",
      "       'Superplasticizer (component 5)(kg in a m^3 mixture)',\n",
      "       'Coarse Aggregate  (component 6)(kg in a m^3 mixture)',\n",
      "       'Fine Aggregate (component 7)(kg in a m^3 mixture)', 'Age (day)',\n",
      "       'concrete_compressive_strength'],\n",
      "      dtype='object')\n"
     ]
    }
   ],
   "source": [
    "data.rename(columns={'Concrete compressive strength(MPa, megapascals) ':'concrete_compressive_strength'},inplace=True)\n",
    "print(data.columns)"
   ]
  },
  {
   "cell_type": "code",
   "execution_count": 4,
   "metadata": {},
   "outputs": [
    {
     "name": "stdout",
     "output_type": "stream",
     "text": [
      "<class 'pandas.core.frame.DataFrame'>\n",
      "Int64Index: 1030 entries, 81 to 252\n",
      "Data columns (total 9 columns):\n",
      " #   Column                                                 Non-Null Count  Dtype  \n",
      "---  ------                                                 --------------  -----  \n",
      " 0   Cement (component 1)(kg in a m^3 mixture)              1030 non-null   float64\n",
      " 1   Blast Furnace Slag (component 2)(kg in a m^3 mixture)  1030 non-null   float64\n",
      " 2   Fly Ash (component 3)(kg in a m^3 mixture)             1030 non-null   float64\n",
      " 3   Water  (component 4)(kg in a m^3 mixture)              1030 non-null   float64\n",
      " 4   Superplasticizer (component 5)(kg in a m^3 mixture)    1030 non-null   float64\n",
      " 5   Coarse Aggregate  (component 6)(kg in a m^3 mixture)   1030 non-null   float64\n",
      " 6   Fine Aggregate (component 7)(kg in a m^3 mixture)      1030 non-null   float64\n",
      " 7   Age (day)                                              1030 non-null   int64  \n",
      " 8   concrete_compressive_strength                          1030 non-null   float64\n",
      "dtypes: float64(8), int64(1)\n",
      "memory usage: 80.5 KB\n"
     ]
    }
   ],
   "source": [
    "data.info()"
   ]
  },
  {
   "cell_type": "code",
   "execution_count": 5,
   "metadata": {},
   "outputs": [
    {
     "data": {
      "text/html": [
       "<div>\n",
       "<style scoped>\n",
       "    .dataframe tbody tr th:only-of-type {\n",
       "        vertical-align: middle;\n",
       "    }\n",
       "\n",
       "    .dataframe tbody tr th {\n",
       "        vertical-align: top;\n",
       "    }\n",
       "\n",
       "    .dataframe thead th {\n",
       "        text-align: right;\n",
       "    }\n",
       "</style>\n",
       "<table border=\"1\" class=\"dataframe\">\n",
       "  <thead>\n",
       "    <tr style=\"text-align: right;\">\n",
       "      <th></th>\n",
       "      <th>Cement (component 1)(kg in a m^3 mixture)</th>\n",
       "      <th>Blast Furnace Slag (component 2)(kg in a m^3 mixture)</th>\n",
       "      <th>Fly Ash (component 3)(kg in a m^3 mixture)</th>\n",
       "      <th>Water  (component 4)(kg in a m^3 mixture)</th>\n",
       "      <th>Superplasticizer (component 5)(kg in a m^3 mixture)</th>\n",
       "      <th>Coarse Aggregate  (component 6)(kg in a m^3 mixture)</th>\n",
       "      <th>Fine Aggregate (component 7)(kg in a m^3 mixture)</th>\n",
       "      <th>Age (day)</th>\n",
       "      <th>concrete_compressive_strength</th>\n",
       "    </tr>\n",
       "  </thead>\n",
       "  <tbody>\n",
       "    <tr>\n",
       "      <th>count</th>\n",
       "      <td>1030.000000</td>\n",
       "      <td>1030.000000</td>\n",
       "      <td>1030.000000</td>\n",
       "      <td>1030.000000</td>\n",
       "      <td>1030.000000</td>\n",
       "      <td>1030.000000</td>\n",
       "      <td>1030.000000</td>\n",
       "      <td>1030.000000</td>\n",
       "      <td>1030.000000</td>\n",
       "    </tr>\n",
       "    <tr>\n",
       "      <th>mean</th>\n",
       "      <td>281.167864</td>\n",
       "      <td>73.895825</td>\n",
       "      <td>54.188350</td>\n",
       "      <td>181.567282</td>\n",
       "      <td>6.204660</td>\n",
       "      <td>972.918932</td>\n",
       "      <td>773.580485</td>\n",
       "      <td>45.662136</td>\n",
       "      <td>35.817961</td>\n",
       "    </tr>\n",
       "    <tr>\n",
       "      <th>std</th>\n",
       "      <td>104.506364</td>\n",
       "      <td>86.279342</td>\n",
       "      <td>63.997004</td>\n",
       "      <td>21.354219</td>\n",
       "      <td>5.973841</td>\n",
       "      <td>77.753954</td>\n",
       "      <td>80.175980</td>\n",
       "      <td>63.169912</td>\n",
       "      <td>16.705742</td>\n",
       "    </tr>\n",
       "    <tr>\n",
       "      <th>min</th>\n",
       "      <td>102.000000</td>\n",
       "      <td>0.000000</td>\n",
       "      <td>0.000000</td>\n",
       "      <td>121.800000</td>\n",
       "      <td>0.000000</td>\n",
       "      <td>801.000000</td>\n",
       "      <td>594.000000</td>\n",
       "      <td>1.000000</td>\n",
       "      <td>2.330000</td>\n",
       "    </tr>\n",
       "    <tr>\n",
       "      <th>25%</th>\n",
       "      <td>192.375000</td>\n",
       "      <td>0.000000</td>\n",
       "      <td>0.000000</td>\n",
       "      <td>164.900000</td>\n",
       "      <td>0.000000</td>\n",
       "      <td>932.000000</td>\n",
       "      <td>730.950000</td>\n",
       "      <td>7.000000</td>\n",
       "      <td>23.710000</td>\n",
       "    </tr>\n",
       "    <tr>\n",
       "      <th>50%</th>\n",
       "      <td>272.900000</td>\n",
       "      <td>22.000000</td>\n",
       "      <td>0.000000</td>\n",
       "      <td>185.000000</td>\n",
       "      <td>6.400000</td>\n",
       "      <td>968.000000</td>\n",
       "      <td>779.500000</td>\n",
       "      <td>28.000000</td>\n",
       "      <td>34.445000</td>\n",
       "    </tr>\n",
       "    <tr>\n",
       "      <th>75%</th>\n",
       "      <td>350.000000</td>\n",
       "      <td>142.950000</td>\n",
       "      <td>118.300000</td>\n",
       "      <td>192.000000</td>\n",
       "      <td>10.200000</td>\n",
       "      <td>1029.400000</td>\n",
       "      <td>824.000000</td>\n",
       "      <td>56.000000</td>\n",
       "      <td>46.135000</td>\n",
       "    </tr>\n",
       "    <tr>\n",
       "      <th>max</th>\n",
       "      <td>540.000000</td>\n",
       "      <td>359.400000</td>\n",
       "      <td>200.100000</td>\n",
       "      <td>247.000000</td>\n",
       "      <td>32.200000</td>\n",
       "      <td>1145.000000</td>\n",
       "      <td>992.600000</td>\n",
       "      <td>365.000000</td>\n",
       "      <td>82.600000</td>\n",
       "    </tr>\n",
       "  </tbody>\n",
       "</table>\n",
       "</div>"
      ],
      "text/plain": [
       "       Cement (component 1)(kg in a m^3 mixture)  \\\n",
       "count                                1030.000000   \n",
       "mean                                  281.167864   \n",
       "std                                   104.506364   \n",
       "min                                   102.000000   \n",
       "25%                                   192.375000   \n",
       "50%                                   272.900000   \n",
       "75%                                   350.000000   \n",
       "max                                   540.000000   \n",
       "\n",
       "       Blast Furnace Slag (component 2)(kg in a m^3 mixture)  \\\n",
       "count                                        1030.000000       \n",
       "mean                                           73.895825       \n",
       "std                                            86.279342       \n",
       "min                                             0.000000       \n",
       "25%                                             0.000000       \n",
       "50%                                            22.000000       \n",
       "75%                                           142.950000       \n",
       "max                                           359.400000       \n",
       "\n",
       "       Fly Ash (component 3)(kg in a m^3 mixture)  \\\n",
       "count                                 1030.000000   \n",
       "mean                                    54.188350   \n",
       "std                                     63.997004   \n",
       "min                                      0.000000   \n",
       "25%                                      0.000000   \n",
       "50%                                      0.000000   \n",
       "75%                                    118.300000   \n",
       "max                                    200.100000   \n",
       "\n",
       "       Water  (component 4)(kg in a m^3 mixture)  \\\n",
       "count                                1030.000000   \n",
       "mean                                  181.567282   \n",
       "std                                    21.354219   \n",
       "min                                   121.800000   \n",
       "25%                                   164.900000   \n",
       "50%                                   185.000000   \n",
       "75%                                   192.000000   \n",
       "max                                   247.000000   \n",
       "\n",
       "       Superplasticizer (component 5)(kg in a m^3 mixture)  \\\n",
       "count                                        1030.000000     \n",
       "mean                                            6.204660     \n",
       "std                                             5.973841     \n",
       "min                                             0.000000     \n",
       "25%                                             0.000000     \n",
       "50%                                             6.400000     \n",
       "75%                                            10.200000     \n",
       "max                                            32.200000     \n",
       "\n",
       "       Coarse Aggregate  (component 6)(kg in a m^3 mixture)  \\\n",
       "count                                        1030.000000      \n",
       "mean                                          972.918932      \n",
       "std                                            77.753954      \n",
       "min                                           801.000000      \n",
       "25%                                           932.000000      \n",
       "50%                                           968.000000      \n",
       "75%                                          1029.400000      \n",
       "max                                          1145.000000      \n",
       "\n",
       "       Fine Aggregate (component 7)(kg in a m^3 mixture)    Age (day)  \\\n",
       "count                                        1030.000000  1030.000000   \n",
       "mean                                          773.580485    45.662136   \n",
       "std                                            80.175980    63.169912   \n",
       "min                                           594.000000     1.000000   \n",
       "25%                                           730.950000     7.000000   \n",
       "50%                                           779.500000    28.000000   \n",
       "75%                                           824.000000    56.000000   \n",
       "max                                           992.600000   365.000000   \n",
       "\n",
       "       concrete_compressive_strength  \n",
       "count                    1030.000000  \n",
       "mean                       35.817961  \n",
       "std                        16.705742  \n",
       "min                         2.330000  \n",
       "25%                        23.710000  \n",
       "50%                        34.445000  \n",
       "75%                        46.135000  \n",
       "max                        82.600000  "
      ]
     },
     "execution_count": 5,
     "metadata": {},
     "output_type": "execute_result"
    }
   ],
   "source": [
    "data.describe()"
   ]
  },
  {
   "cell_type": "markdown",
   "metadata": {},
   "source": [
    "# **Checking for null values**"
   ]
  },
  {
   "cell_type": "code",
   "execution_count": 6,
   "metadata": {
    "id": "vatOZo5M1arA",
    "outputId": "3388e51c-c5e7-4ebf-a83a-ddb4347ba911"
   },
   "outputs": [
    {
     "data": {
      "text/plain": [
       "Cement (component 1)(kg in a m^3 mixture)                0\n",
       "Blast Furnace Slag (component 2)(kg in a m^3 mixture)    0\n",
       "Fly Ash (component 3)(kg in a m^3 mixture)               0\n",
       "Water  (component 4)(kg in a m^3 mixture)                0\n",
       "Superplasticizer (component 5)(kg in a m^3 mixture)      0\n",
       "Coarse Aggregate  (component 6)(kg in a m^3 mixture)     0\n",
       "Fine Aggregate (component 7)(kg in a m^3 mixture)        0\n",
       "Age (day)                                                0\n",
       "concrete_compressive_strength                            0\n",
       "dtype: int64"
      ]
     },
     "execution_count": 6,
     "metadata": {},
     "output_type": "execute_result"
    }
   ],
   "source": [
    "data.isna().sum()"
   ]
  },
  {
   "cell_type": "markdown",
   "metadata": {},
   "source": [
    "# **Splitting and standardizing data**"
   ]
  },
  {
   "cell_type": "code",
   "execution_count": 8,
   "metadata": {
    "id": "VVxgYDBk2w0r",
    "outputId": "0f319505-2157-406d-855e-fb5655c5d1b4"
   },
   "outputs": [
    {
     "name": "stderr",
     "output_type": "stream",
     "text": [
      "/home/hammad/.local/lib/python3.8/site-packages/pandas/core/frame.py:4305: SettingWithCopyWarning: \n",
      "A value is trying to be set on a copy of a slice from a DataFrame\n",
      "\n",
      "See the caveats in the documentation: https://pandas.pydata.org/pandas-docs/stable/user_guide/indexing.html#returning-a-view-versus-a-copy\n",
      "  return super().drop(\n"
     ]
    }
   ],
   "source": [
    "train_data=data.iloc[:516]\n",
    "train_data.drop('concrete_compressive_strength',axis=1,inplace=True)\n",
    "mean=train_data.mean(axis=0)\n",
    "std=train_data.std(axis=0)\n",
    "train_data-=mean\n",
    "train_data/=std\n",
    "train_targets=data['concrete_compressive_strength'].iloc[:516]"
   ]
  },
  {
   "cell_type": "code",
   "execution_count": 9,
   "metadata": {
    "id": "tSVT4qbR7X6A",
    "outputId": "107d33e2-a571-4138-b86c-2f36f02dd5e7"
   },
   "outputs": [],
   "source": [
    "test_data=data.iloc[516:826]\n",
    "test_data.drop('concrete_compressive_strength',axis=1,inplace=True)\n",
    "test_data-=mean\n",
    "test_data/=std\n",
    "test_targets=data['concrete_compressive_strength'].iloc[516:826]"
   ]
  },
  {
   "cell_type": "code",
   "execution_count": 10,
   "metadata": {
    "id": "NOclQcDc8BLe",
    "outputId": "732e152f-d9d0-4352-c26d-c7296e721f7f"
   },
   "outputs": [],
   "source": [
    "val_data=data.iloc[826:]\n",
    "val_data.drop('concrete_compressive_strength',axis=1,inplace=True)\n",
    "val_data-=mean\n",
    "val_data/=std\n",
    "val_targets=data['concrete_compressive_strength'].iloc[826:]"
   ]
  },
  {
   "cell_type": "markdown",
   "metadata": {},
   "source": [
    "# **Creating model**"
   ]
  },
  {
   "cell_type": "code",
   "execution_count": 11,
   "metadata": {
    "id": "A_n3LkeP8agp"
   },
   "outputs": [],
   "source": [
    "model=models.Sequential()\n",
    "model.add(layers.Dropout(0.1))\n",
    "model.add(layers.Dense(100,activation='tanh',input_shape=(train_data.iloc[1].shape)))\n",
    "model.add(layers.Dropout(0.7))\n",
    "model.add(layers.Dense(5,activation='tanh'))\n",
    "model.add(layers.Dropout(0.2))\n",
    "\n",
    "model.add(layers.Dense(1))\n",
    "model.compile(optimizer='rmsprop',loss='mse',metrics=['mae'])\n",
    "\n"
   ]
  },
  {
   "cell_type": "code",
   "execution_count": 12,
   "metadata": {
    "id": "Kwg9iLyVLPN_",
    "outputId": "e18eae50-9776-48cd-9a14-a15193f0d097"
   },
   "outputs": [
    {
     "name": "stdout",
     "output_type": "stream",
     "text": [
      "Epoch 1/100\n",
      "516/516 [==============================] - 2s 3ms/step - loss: 1518.9727 - mae: 34.9661 - val_loss: 1448.6720 - val_mae: 34.3423\n",
      "Epoch 2/100\n",
      "516/516 [==============================] - 1s 2ms/step - loss: 1267.5911 - mae: 31.4674 - val_loss: 1266.2533 - val_mae: 31.5987\n",
      "Epoch 3/100\n",
      "516/516 [==============================] - 1s 3ms/step - loss: 1241.8643 - mae: 30.9823 - val_loss: 1120.2717 - val_mae: 29.2284\n",
      "Epoch 4/100\n",
      "516/516 [==============================] - 1s 3ms/step - loss: 1076.4584 - mae: 28.1652 - val_loss: 989.7074 - val_mae: 26.9624\n",
      "Epoch 5/100\n",
      "516/516 [==============================] - 1s 3ms/step - loss: 874.8492 - mae: 24.9286 - val_loss: 873.4266 - val_mae: 24.9153\n",
      "Epoch 6/100\n",
      "516/516 [==============================] - 1s 3ms/step - loss: 828.9523 - mae: 23.8557 - val_loss: 770.8948 - val_mae: 23.0295\n",
      "Epoch 7/100\n",
      "516/516 [==============================] - 1s 3ms/step - loss: 733.6530 - mae: 21.9671 - val_loss: 681.9167 - val_mae: 21.3794\n",
      "Epoch 8/100\n",
      "516/516 [==============================] - 2s 5ms/step - loss: 608.4395 - mae: 19.6309 - val_loss: 605.5932 - val_mae: 19.9089\n",
      "Epoch 9/100\n",
      "516/516 [==============================] - 2s 4ms/step - loss: 542.5067 - mae: 18.6651 - val_loss: 541.2307 - val_mae: 18.5872\n",
      "Epoch 10/100\n",
      "516/516 [==============================] - 2s 4ms/step - loss: 524.8735 - mae: 18.1067 - val_loss: 488.6782 - val_mae: 17.4847\n",
      "Epoch 11/100\n",
      "516/516 [==============================] - 2s 4ms/step - loss: 458.6582 - mae: 16.7169 - val_loss: 444.3099 - val_mae: 16.5397\n",
      "Epoch 12/100\n",
      "516/516 [==============================] - 3s 5ms/step - loss: 421.9164 - mae: 16.4059 - val_loss: 408.6125 - val_mae: 15.7853\n",
      "Epoch 13/100\n",
      "516/516 [==============================] - 3s 5ms/step - loss: 418.3685 - mae: 15.9007 - val_loss: 380.2631 - val_mae: 15.2379\n",
      "Epoch 14/100\n",
      "516/516 [==============================] - 3s 5ms/step - loss: 414.8282 - mae: 15.9942 - val_loss: 358.5137 - val_mae: 14.8518\n",
      "Epoch 15/100\n",
      "516/516 [==============================] - 3s 5ms/step - loss: 386.7787 - mae: 15.3186 - val_loss: 341.5816 - val_mae: 14.5438\n",
      "Epoch 16/100\n",
      "516/516 [==============================] - 3s 5ms/step - loss: 335.1454 - mae: 14.2675 - val_loss: 326.8333 - val_mae: 14.2728\n",
      "Epoch 17/100\n",
      "516/516 [==============================] - 3s 5ms/step - loss: 342.4376 - mae: 14.9292 - val_loss: 316.6049 - val_mae: 14.0864\n",
      "Epoch 18/100\n",
      "516/516 [==============================] - 1s 2ms/step - loss: 332.9379 - mae: 14.4117 - val_loss: 307.9655 - val_mae: 13.9281\n",
      "Epoch 19/100\n",
      "516/516 [==============================] - 1s 2ms/step - loss: 349.3892 - mae: 14.3769 - val_loss: 300.9531 - val_mae: 13.8001\n",
      "Epoch 20/100\n",
      "516/516 [==============================] - 1s 2ms/step - loss: 351.3070 - mae: 14.7090 - val_loss: 296.0077 - val_mae: 13.7131\n",
      "Epoch 21/100\n",
      "516/516 [==============================] - 1s 2ms/step - loss: 284.3156 - mae: 13.2399 - val_loss: 291.1937 - val_mae: 13.6278\n",
      "Epoch 22/100\n",
      "516/516 [==============================] - 1s 2ms/step - loss: 307.9897 - mae: 13.7164 - val_loss: 288.2355 - val_mae: 13.5753\n",
      "Epoch 23/100\n",
      "516/516 [==============================] - 1s 3ms/step - loss: 333.6184 - mae: 14.5781 - val_loss: 286.0421 - val_mae: 13.5340\n",
      "Epoch 24/100\n",
      "516/516 [==============================] - 2s 3ms/step - loss: 293.2589 - mae: 13.7200 - val_loss: 283.9053 - val_mae: 13.4926\n",
      "Epoch 25/100\n",
      "516/516 [==============================] - 2s 4ms/step - loss: 288.6513 - mae: 13.3386 - val_loss: 282.0034 - val_mae: 13.4556\n",
      "Epoch 26/100\n",
      "516/516 [==============================] - 2s 4ms/step - loss: 331.4326 - mae: 14.3627 - val_loss: 280.6669 - val_mae: 13.4307\n",
      "Epoch 27/100\n",
      "516/516 [==============================] - 2s 3ms/step - loss: 318.7578 - mae: 14.2497 - val_loss: 279.1758 - val_mae: 13.4025\n",
      "Epoch 28/100\n",
      "516/516 [==============================] - 1s 2ms/step - loss: 341.0026 - mae: 14.2171 - val_loss: 278.0967 - val_mae: 13.3840\n",
      "Epoch 29/100\n",
      "516/516 [==============================] - 1s 2ms/step - loss: 283.7776 - mae: 13.2819 - val_loss: 275.1772 - val_mae: 13.3229\n",
      "Epoch 30/100\n",
      "516/516 [==============================] - 1s 2ms/step - loss: 303.3605 - mae: 13.9116 - val_loss: 265.6772 - val_mae: 13.0245\n",
      "Epoch 31/100\n",
      "516/516 [==============================] - 1s 2ms/step - loss: 290.0873 - mae: 13.2188 - val_loss: 256.9774 - val_mae: 12.7570\n",
      "Epoch 32/100\n",
      "516/516 [==============================] - 3s 6ms/step - loss: 293.5323 - mae: 13.3296 - val_loss: 250.4129 - val_mae: 12.4837\n",
      "Epoch 33/100\n",
      "516/516 [==============================] - 2s 4ms/step - loss: 287.8927 - mae: 13.1968 - val_loss: 245.6040 - val_mae: 12.2546\n",
      "Epoch 34/100\n",
      "516/516 [==============================] - 3s 6ms/step - loss: 315.4110 - mae: 14.0370 - val_loss: 237.0144 - val_mae: 11.8232\n",
      "Epoch 35/100\n",
      "516/516 [==============================] - 2s 4ms/step - loss: 261.5945 - mae: 12.6042 - val_loss: 234.4312 - val_mae: 11.8194\n",
      "Epoch 36/100\n",
      "516/516 [==============================] - 1s 2ms/step - loss: 261.1812 - mae: 12.8219 - val_loss: 227.2293 - val_mae: 11.4881\n",
      "Epoch 37/100\n",
      "516/516 [==============================] - 1s 1ms/step - loss: 273.8221 - mae: 12.5851 - val_loss: 218.1110 - val_mae: 11.0864\n",
      "Epoch 38/100\n",
      "516/516 [==============================] - 1s 2ms/step - loss: 251.6349 - mae: 12.5823 - val_loss: 210.9469 - val_mae: 10.8721\n",
      "Epoch 39/100\n",
      "516/516 [==============================] - 1s 2ms/step - loss: 251.9241 - mae: 12.5563 - val_loss: 197.8217 - val_mae: 10.3013\n",
      "Epoch 40/100\n",
      "516/516 [==============================] - 1s 1ms/step - loss: 255.5205 - mae: 12.4201 - val_loss: 188.6290 - val_mae: 10.0231\n",
      "Epoch 41/100\n",
      "516/516 [==============================] - 1s 1ms/step - loss: 237.6204 - mae: 11.8601 - val_loss: 182.4706 - val_mae: 9.8569\n",
      "Epoch 42/100\n",
      "516/516 [==============================] - 1s 1ms/step - loss: 215.3088 - mae: 11.1878 - val_loss: 174.2290 - val_mae: 9.5615\n",
      "Epoch 43/100\n",
      "516/516 [==============================] - 2s 4ms/step - loss: 224.5646 - mae: 11.4501 - val_loss: 167.4701 - val_mae: 9.3893\n",
      "Epoch 44/100\n",
      "516/516 [==============================] - 1s 2ms/step - loss: 196.7149 - mae: 10.7005 - val_loss: 164.7263 - val_mae: 9.4037\n",
      "Epoch 45/100\n",
      "516/516 [==============================] - 2s 3ms/step - loss: 186.5723 - mae: 10.5384 - val_loss: 158.1054 - val_mae: 9.1616\n",
      "Epoch 46/100\n",
      "516/516 [==============================] - 1s 1ms/step - loss: 206.5425 - mae: 10.8073 - val_loss: 154.9551 - val_mae: 9.0180\n",
      "Epoch 47/100\n",
      "516/516 [==============================] - 1s 2ms/step - loss: 228.7446 - mae: 11.9021 - val_loss: 152.5401 - val_mae: 8.9277\n",
      "Epoch 48/100\n",
      "516/516 [==============================] - 1s 1ms/step - loss: 225.5116 - mae: 11.8412 - val_loss: 148.6203 - val_mae: 8.8823\n",
      "Epoch 49/100\n",
      "516/516 [==============================] - 1s 1ms/step - loss: 216.5569 - mae: 11.6249 - val_loss: 144.6917 - val_mae: 8.7220\n",
      "Epoch 50/100\n",
      "516/516 [==============================] - 1s 2ms/step - loss: 179.4615 - mae: 10.6267 - val_loss: 147.2806 - val_mae: 9.0383\n",
      "Epoch 51/100\n",
      "516/516 [==============================] - 1s 3ms/step - loss: 203.5096 - mae: 11.0990 - val_loss: 141.4336 - val_mae: 8.6530\n",
      "Epoch 52/100\n",
      "516/516 [==============================] - 2s 3ms/step - loss: 162.7945 - mae: 9.7342 - val_loss: 137.7484 - val_mae: 8.5279\n",
      "Epoch 53/100\n",
      "516/516 [==============================] - 1s 2ms/step - loss: 209.5766 - mae: 11.2971 - val_loss: 138.3956 - val_mae: 8.7690\n",
      "Epoch 54/100\n",
      "516/516 [==============================] - 1s 1ms/step - loss: 211.2581 - mae: 11.2629 - val_loss: 133.3933 - val_mae: 8.4841\n",
      "Epoch 55/100\n",
      "516/516 [==============================] - 1s 2ms/step - loss: 236.0326 - mae: 12.0948 - val_loss: 131.9076 - val_mae: 8.4894\n",
      "Epoch 56/100\n",
      "516/516 [==============================] - 1s 1ms/step - loss: 207.1949 - mae: 10.9495 - val_loss: 132.0214 - val_mae: 8.5579\n",
      "Epoch 57/100\n",
      "516/516 [==============================] - 1s 1ms/step - loss: 209.6536 - mae: 11.2596 - val_loss: 128.3260 - val_mae: 8.2055\n",
      "Epoch 58/100\n",
      "516/516 [==============================] - 1s 3ms/step - loss: 208.7192 - mae: 11.2104 - val_loss: 126.3153 - val_mae: 8.2874\n",
      "Epoch 59/100\n"
     ]
    },
    {
     "name": "stdout",
     "output_type": "stream",
     "text": [
      "516/516 [==============================] - 1s 2ms/step - loss: 195.3240 - mae: 10.9389 - val_loss: 127.4869 - val_mae: 8.4551\n",
      "Epoch 60/100\n",
      "516/516 [==============================] - 1s 2ms/step - loss: 182.3355 - mae: 10.2041 - val_loss: 122.6668 - val_mae: 8.1571\n",
      "Epoch 61/100\n",
      "516/516 [==============================] - 1s 1ms/step - loss: 224.9672 - mae: 11.9655 - val_loss: 124.1122 - val_mae: 8.2544\n",
      "Epoch 62/100\n",
      "516/516 [==============================] - 1s 2ms/step - loss: 215.0956 - mae: 10.9271 - val_loss: 122.3883 - val_mae: 8.1135\n",
      "Epoch 63/100\n",
      "516/516 [==============================] - 1s 1ms/step - loss: 180.3823 - mae: 10.2125 - val_loss: 122.8158 - val_mae: 8.2570\n",
      "Epoch 64/100\n",
      "516/516 [==============================] - 1s 1ms/step - loss: 178.1647 - mae: 10.2558 - val_loss: 124.4967 - val_mae: 8.2774\n",
      "Epoch 65/100\n",
      "516/516 [==============================] - 1s 1ms/step - loss: 197.3159 - mae: 10.9093 - val_loss: 122.9424 - val_mae: 8.3021\n",
      "Epoch 66/100\n",
      "516/516 [==============================] - 1s 1ms/step - loss: 201.5046 - mae: 10.9226 - val_loss: 119.5226 - val_mae: 8.1618\n",
      "Epoch 67/100\n",
      "516/516 [==============================] - 1s 1ms/step - loss: 173.3793 - mae: 10.1730 - val_loss: 123.1451 - val_mae: 8.5049\n",
      "Epoch 68/100\n",
      "516/516 [==============================] - 1s 1ms/step - loss: 181.9082 - mae: 10.4281 - val_loss: 121.1164 - val_mae: 8.2870\n",
      "Epoch 69/100\n",
      "516/516 [==============================] - 1s 1ms/step - loss: 172.2033 - mae: 10.1579 - val_loss: 116.0591 - val_mae: 8.0946\n",
      "Epoch 70/100\n",
      "516/516 [==============================] - 1s 1ms/step - loss: 177.8926 - mae: 10.2761 - val_loss: 120.1169 - val_mae: 8.2338\n",
      "Epoch 71/100\n",
      "516/516 [==============================] - 1s 1ms/step - loss: 148.1500 - mae: 9.7261 - val_loss: 118.2514 - val_mae: 8.2642\n",
      "Epoch 72/100\n",
      "516/516 [==============================] - 1s 2ms/step - loss: 179.8526 - mae: 10.2759 - val_loss: 116.6168 - val_mae: 8.1287\n",
      "Epoch 73/100\n",
      "516/516 [==============================] - 1s 2ms/step - loss: 144.3543 - mae: 9.5531 - val_loss: 117.9058 - val_mae: 8.3081\n",
      "Epoch 74/100\n",
      "516/516 [==============================] - 1s 1ms/step - loss: 190.3821 - mae: 10.9777 - val_loss: 115.5063 - val_mae: 8.1022\n",
      "Epoch 75/100\n",
      "516/516 [==============================] - 1s 2ms/step - loss: 176.7762 - mae: 10.2860 - val_loss: 116.7925 - val_mae: 8.1313\n",
      "Epoch 76/100\n",
      "516/516 [==============================] - 1s 2ms/step - loss: 179.1442 - mae: 9.9751 - val_loss: 118.0673 - val_mae: 8.3831\n",
      "Epoch 77/100\n",
      "516/516 [==============================] - 1s 2ms/step - loss: 161.7332 - mae: 10.0649 - val_loss: 115.3276 - val_mae: 8.1694\n",
      "Epoch 78/100\n",
      "516/516 [==============================] - 1s 2ms/step - loss: 166.3235 - mae: 9.8502 - val_loss: 114.0992 - val_mae: 8.0094\n",
      "Epoch 79/100\n",
      "516/516 [==============================] - 1s 2ms/step - loss: 197.9377 - mae: 10.8810 - val_loss: 115.7866 - val_mae: 8.3258\n",
      "Epoch 80/100\n",
      "516/516 [==============================] - 1s 1ms/step - loss: 151.6300 - mae: 9.3505 - val_loss: 114.1619 - val_mae: 8.2438\n",
      "Epoch 81/100\n",
      "516/516 [==============================] - 1s 1ms/step - loss: 172.6605 - mae: 9.8898 - val_loss: 114.2854 - val_mae: 8.0927\n",
      "Epoch 82/100\n",
      "516/516 [==============================] - 1s 1ms/step - loss: 161.6441 - mae: 9.8329 - val_loss: 113.6129 - val_mae: 8.1608\n",
      "Epoch 83/100\n",
      "516/516 [==============================] - 1s 1ms/step - loss: 162.5572 - mae: 9.7769 - val_loss: 111.1497 - val_mae: 7.9470\n",
      "Epoch 84/100\n",
      "516/516 [==============================] - 1s 1ms/step - loss: 179.6510 - mae: 10.4753 - val_loss: 109.5723 - val_mae: 8.0040\n",
      "Epoch 85/100\n",
      "516/516 [==============================] - 1s 1ms/step - loss: 191.5591 - mae: 10.7183 - val_loss: 107.3138 - val_mae: 7.7844\n",
      "Epoch 86/100\n",
      "516/516 [==============================] - 1s 1ms/step - loss: 161.0672 - mae: 9.8123 - val_loss: 105.7873 - val_mae: 7.6965\n",
      "Epoch 87/100\n",
      "516/516 [==============================] - 1s 1ms/step - loss: 224.3926 - mae: 11.0863 - val_loss: 107.3944 - val_mae: 7.9499\n",
      "Epoch 88/100\n",
      "516/516 [==============================] - 1s 1ms/step - loss: 178.7062 - mae: 9.6858 - val_loss: 107.1922 - val_mae: 7.8691\n",
      "Epoch 89/100\n",
      "516/516 [==============================] - 1s 1ms/step - loss: 194.2670 - mae: 10.6894 - val_loss: 106.3110 - val_mae: 7.8064\n",
      "Epoch 90/100\n",
      "516/516 [==============================] - 1s 2ms/step - loss: 165.9844 - mae: 9.9220 - val_loss: 107.8736 - val_mae: 7.8428\n",
      "Epoch 91/100\n",
      "516/516 [==============================] - 1s 2ms/step - loss: 145.7274 - mae: 9.1311 - val_loss: 107.1966 - val_mae: 7.9721\n",
      "Epoch 92/100\n",
      "516/516 [==============================] - 1s 2ms/step - loss: 179.3656 - mae: 10.3754 - val_loss: 103.4826 - val_mae: 7.7432\n",
      "Epoch 93/100\n",
      "516/516 [==============================] - 1s 1ms/step - loss: 179.5236 - mae: 10.2407 - val_loss: 102.2170 - val_mae: 7.7535\n",
      "Epoch 94/100\n",
      "516/516 [==============================] - 1s 2ms/step - loss: 160.8920 - mae: 9.5178 - val_loss: 102.1797 - val_mae: 7.8080\n",
      "Epoch 95/100\n",
      "516/516 [==============================] - 1s 2ms/step - loss: 152.2831 - mae: 9.7292 - val_loss: 101.5312 - val_mae: 7.7758\n",
      "Epoch 96/100\n",
      "516/516 [==============================] - 1s 1ms/step - loss: 175.1852 - mae: 10.2026 - val_loss: 106.0240 - val_mae: 8.0273\n",
      "Epoch 97/100\n",
      "516/516 [==============================] - 1s 2ms/step - loss: 169.1312 - mae: 9.8357 - val_loss: 100.6979 - val_mae: 7.6577\n",
      "Epoch 98/100\n",
      "516/516 [==============================] - 1s 1ms/step - loss: 165.8265 - mae: 9.5727 - val_loss: 100.5068 - val_mae: 7.6361\n",
      "Epoch 99/100\n",
      "516/516 [==============================] - 1s 2ms/step - loss: 147.4129 - mae: 9.3419 - val_loss: 99.8327 - val_mae: 7.6535\n",
      "Epoch 100/100\n",
      "516/516 [==============================] - 1s 1ms/step - loss: 162.1397 - mae: 10.1754 - val_loss: 98.0679 - val_mae: 7.5049\n"
     ]
    },
    {
     "data": {
      "text/plain": [
       "<tensorflow.python.keras.callbacks.History at 0x7fcd784044f0>"
      ]
     },
     "execution_count": 12,
     "metadata": {},
     "output_type": "execute_result"
    }
   ],
   "source": [
    "model.fit(train_data,train_targets,epochs=100,batch_size=1,validation_data=(val_data,val_targets))"
   ]
  },
  {
   "cell_type": "markdown",
   "metadata": {},
   "source": [
    "# **Evaluating on test data**"
   ]
  },
  {
   "cell_type": "code",
   "execution_count": 13,
   "metadata": {
    "id": "5Bj9gv3G9di3",
    "outputId": "a75c894a-9dae-4050-e1bb-4989aed7afcf"
   },
   "outputs": [
    {
     "name": "stdout",
     "output_type": "stream",
     "text": [
      "10/10 [==============================] - 0s 2ms/step - loss: 94.5096 - mae: 7.1724\n"
     ]
    },
    {
     "data": {
      "text/plain": [
       "[94.50963592529297, 7.172402858734131]"
      ]
     },
     "execution_count": 13,
     "metadata": {},
     "output_type": "execute_result"
    }
   ],
   "source": [
    "model.evaluate(test_data,test_targets)"
   ]
  },
  {
   "cell_type": "markdown",
   "metadata": {},
   "source": [
    "# *Finally some prediction*"
   ]
  },
  {
   "cell_type": "code",
   "execution_count": 14,
   "metadata": {
    "id": "h1eWqCvx-069",
    "outputId": "026a0374-88ce-4ca8-9457-dea35f410b34"
   },
   "outputs": [
    {
     "data": {
      "text/plain": [
       "array([43.535828], dtype=float32)"
      ]
     },
     "execution_count": 14,
     "metadata": {},
     "output_type": "execute_result"
    }
   ],
   "source": [
    "pred=model.predict(test_data)\n",
    "pred[7]"
   ]
  },
  {
   "cell_type": "code",
   "execution_count": 15,
   "metadata": {
    "id": "CqqLbMYM_SDO",
    "outputId": "d9f266fc-8a89-4df3-9318-764a63e868cd"
   },
   "outputs": [
    {
     "data": {
      "text/plain": [
       "52.42"
      ]
     },
     "execution_count": 15,
     "metadata": {},
     "output_type": "execute_result"
    }
   ],
   "source": [
    "test_targets.iloc[7]"
   ]
  },
  {
   "cell_type": "code",
   "execution_count": null,
   "metadata": {
    "id": "QbYlJ4KSE2da"
   },
   "outputs": [],
   "source": []
  }
 ],
 "metadata": {
  "kernelspec": {
   "display_name": "Python 3",
   "language": "python",
   "name": "python3"
  },
  "language_info": {
   "codemirror_mode": {
    "name": "ipython",
    "version": 3
   },
   "file_extension": ".py",
   "mimetype": "text/x-python",
   "name": "python",
   "nbconvert_exporter": "python",
   "pygments_lexer": "ipython3",
   "version": "3.8.5"
  }
 },
 "nbformat": 4,
 "nbformat_minor": 4
}
