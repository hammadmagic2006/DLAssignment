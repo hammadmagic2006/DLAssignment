{
 "cells": [
  {
   "cell_type": "code",
   "execution_count": 1,
   "metadata": {
    "_cell_guid": "79c7e3d0-c299-4dcb-8224-4455121ee9b0",
    "_uuid": "d629ff2d2480ee46fbb7e2d37f6b5fab8052498a",
    "execution": {
     "iopub.execute_input": "2021-01-14T14:57:25.261038Z",
     "iopub.status.busy": "2021-01-14T14:57:25.260416Z",
     "iopub.status.idle": "2021-01-14T14:57:30.775824Z",
     "shell.execute_reply": "2021-01-14T14:57:30.774228Z"
    },
    "papermill": {
     "duration": 5.536062,
     "end_time": "2021-01-14T14:57:30.775953",
     "exception": false,
     "start_time": "2021-01-14T14:57:25.239891",
     "status": "completed"
    },
    "tags": []
   },
   "outputs": [],
   "source": [
    "import os\n",
    "import tensorflow as tf\n",
    "from tensorflow import keras\n",
    "import numpy as np\n",
    "import matplotlib.pyplot as plt"
   ]
  },
  {
   "cell_type": "code",
   "execution_count": 3,
   "metadata": {
    "execution": {
     "iopub.execute_input": "2021-01-14T14:57:30.810884Z",
     "iopub.status.busy": "2021-01-14T14:57:30.810208Z",
     "iopub.status.idle": "2021-01-14T14:57:30.821283Z",
     "shell.execute_reply": "2021-01-14T14:57:30.821906Z"
    },
    "papermill": {
     "duration": 0.031457,
     "end_time": "2021-01-14T14:57:30.822051",
     "exception": false,
     "start_time": "2021-01-14T14:57:30.790594",
     "status": "completed"
    },
    "tags": []
   },
   "outputs": [
    {
     "name": "stdout",
     "output_type": "stream",
     "text": [
      "['flowers', 'tulip', 'rose', 'sunflower', 'daisy', 'dandelion']\n"
     ]
    }
   ],
   "source": [
    "data_dir = '/home/hammad/my_project_dir/flowers'\n",
    "class_names = [name for name in os.listdir(data_dir)]\n",
    "print(class_names)"
   ]
  },
  {
   "cell_type": "code",
   "execution_count": 5,
   "metadata": {
    "execution": {
     "iopub.execute_input": "2021-01-14T14:57:30.855394Z",
     "iopub.status.busy": "2021-01-14T14:57:30.854787Z",
     "iopub.status.idle": "2021-01-14T14:57:30.858904Z",
     "shell.execute_reply": "2021-01-14T14:57:30.858405Z"
    },
    "papermill": {
     "duration": 0.022007,
     "end_time": "2021-01-14T14:57:30.858990",
     "exception": false,
     "start_time": "2021-01-14T14:57:30.836983",
     "status": "completed"
    },
    "tags": []
   },
   "outputs": [],
   "source": [
    "image_height = 150\n",
    "image_width = 150\n",
    "\n",
    "batch_size = 32"
   ]
  },
  {
   "cell_type": "markdown",
   "metadata": {
    "papermill": {
     "duration": 0.014276,
     "end_time": "2021-01-14T14:57:30.888117",
     "exception": false,
     "start_time": "2021-01-14T14:57:30.873841",
     "status": "completed"
    },
    "tags": []
   },
   "source": [
    "# Create function to convert file path into image, label pair"
   ]
  },
  {
   "cell_type": "code",
   "execution_count": 6,
   "metadata": {
    "execution": {
     "iopub.execute_input": "2021-01-14T14:57:30.924141Z",
     "iopub.status.busy": "2021-01-14T14:57:30.922516Z",
     "iopub.status.idle": "2021-01-14T14:57:30.924832Z",
     "shell.execute_reply": "2021-01-14T14:57:30.925286Z"
    },
    "papermill": {
     "duration": 0.022288,
     "end_time": "2021-01-14T14:57:30.925388",
     "exception": false,
     "start_time": "2021-01-14T14:57:30.903100",
     "status": "completed"
    },
    "tags": []
   },
   "outputs": [],
   "source": [
    "def get_label(path):\n",
    "    parts = tf.strings.split(path, os.path.sep)\n",
    "    one_hot = parts[-2] == class_names\n",
    "    return tf.argmax(one_hot)"
   ]
  },
  {
   "cell_type": "code",
   "execution_count": 7,
   "metadata": {
    "execution": {
     "iopub.execute_input": "2021-01-14T14:57:30.959516Z",
     "iopub.status.busy": "2021-01-14T14:57:30.958829Z",
     "iopub.status.idle": "2021-01-14T14:57:30.961648Z",
     "shell.execute_reply": "2021-01-14T14:57:30.962080Z"
    },
    "papermill": {
     "duration": 0.022284,
     "end_time": "2021-01-14T14:57:30.962192",
     "exception": false,
     "start_time": "2021-01-14T14:57:30.939908",
     "status": "completed"
    },
    "tags": []
   },
   "outputs": [],
   "source": [
    "def decode_image(image):\n",
    "    image = tf.io.decode_jpeg(image, channels=3)\n",
    "    return tf.image.resize(image, [image_height, image_width])"
   ]
  },
  {
   "cell_type": "code",
   "execution_count": 8,
   "metadata": {
    "execution": {
     "iopub.execute_input": "2021-01-14T14:57:30.998250Z",
     "iopub.status.busy": "2021-01-14T14:57:30.996477Z",
     "iopub.status.idle": "2021-01-14T14:57:30.998897Z",
     "shell.execute_reply": "2021-01-14T14:57:30.999402Z"
    },
    "papermill": {
     "duration": 0.022287,
     "end_time": "2021-01-14T14:57:30.999531",
     "exception": false,
     "start_time": "2021-01-14T14:57:30.977244",
     "status": "completed"
    },
    "tags": []
   },
   "outputs": [],
   "source": [
    "def process_path(path):\n",
    "    label = get_label(path)\n",
    "    image = tf.io.read_file(path)\n",
    "    image = decode_image(image)\n",
    "    return image, label"
   ]
  },
  {
   "cell_type": "markdown",
   "metadata": {
    "papermill": {
     "duration": 0.016916,
     "end_time": "2021-01-14T14:57:31.032102",
     "exception": false,
     "start_time": "2021-01-14T14:57:31.015186",
     "status": "completed"
    },
    "tags": []
   },
   "source": [
    "# Create dataset using tf.data"
   ]
  },
  {
   "cell_type": "code",
   "execution_count": 10,
   "metadata": {
    "execution": {
     "iopub.execute_input": "2021-01-14T14:57:33.751342Z",
     "iopub.status.busy": "2021-01-14T14:57:33.750548Z",
     "iopub.status.idle": "2021-01-14T14:57:34.918362Z",
     "shell.execute_reply": "2021-01-14T14:57:34.917246Z"
    },
    "papermill": {
     "duration": 3.869665,
     "end_time": "2021-01-14T14:57:34.918534",
     "exception": false,
     "start_time": "2021-01-14T14:57:31.048869",
     "status": "completed"
    },
    "tags": []
   },
   "outputs": [],
   "source": [
    "autotune = tf.data.experimental.AUTOTUNE\n",
    "\n",
    "dataset = tf.data.Dataset.list_files(f'{data_dir}/*/*.jpg', shuffle=True)\n",
    "dataset = dataset.map(process_path, num_parallel_calls=autotune)\n",
    "\n",
    "train_size = int(len(dataset) * 0.9)\n",
    "train_dataset = dataset.take(train_size)\n",
    "test_dataset = dataset.skip(train_size)\n",
    "\n",
    "val_size = int(len(train_dataset) * 0.2)\n",
    "val_dataset = train_dataset.take(val_size)\n",
    "train_dataset = train_dataset.skip(val_size)"
   ]
  },
  {
   "cell_type": "code",
   "execution_count": 11,
   "metadata": {
    "execution": {
     "iopub.execute_input": "2021-01-14T14:57:34.958522Z",
     "iopub.status.busy": "2021-01-14T14:57:34.956762Z",
     "iopub.status.idle": "2021-01-14T14:57:34.959228Z",
     "shell.execute_reply": "2021-01-14T14:57:34.959792Z"
    },
    "papermill": {
     "duration": 0.024459,
     "end_time": "2021-01-14T14:57:34.959923",
     "exception": false,
     "start_time": "2021-01-14T14:57:34.935464",
     "status": "completed"
    },
    "tags": []
   },
   "outputs": [],
   "source": [
    "def configure_dataset(ds):\n",
    "    ds = ds.shuffle(1000)\n",
    "    ds = ds.batch(batch_size)\n",
    "    ds = ds.cache()\n",
    "    ds = ds.prefetch(autotune)\n",
    "    return ds"
   ]
  },
  {
   "cell_type": "code",
   "execution_count": 12,
   "metadata": {
    "execution": {
     "iopub.execute_input": "2021-01-14T14:57:34.996871Z",
     "iopub.status.busy": "2021-01-14T14:57:34.996269Z",
     "iopub.status.idle": "2021-01-14T14:57:35.005600Z",
     "shell.execute_reply": "2021-01-14T14:57:35.005022Z"
    },
    "papermill": {
     "duration": 0.02938,
     "end_time": "2021-01-14T14:57:35.005699",
     "exception": false,
     "start_time": "2021-01-14T14:57:34.976319",
     "status": "completed"
    },
    "tags": []
   },
   "outputs": [],
   "source": [
    "train_dataset = configure_dataset(train_dataset)\n",
    "val_dataset = configure_dataset(val_dataset)\n",
    "test_dataset = configure_dataset(test_dataset)"
   ]
  },
  {
   "cell_type": "markdown",
   "metadata": {
    "papermill": {
     "duration": 0.017784,
     "end_time": "2021-01-14T14:57:35.039931",
     "exception": false,
     "start_time": "2021-01-14T14:57:35.022147",
     "status": "completed"
    },
    "tags": []
   },
   "source": [
    "# Create model"
   ]
  },
  {
   "cell_type": "code",
   "execution_count": 13,
   "metadata": {
    "execution": {
     "iopub.execute_input": "2021-01-14T14:57:35.087957Z",
     "iopub.status.busy": "2021-01-14T14:57:35.087251Z",
     "iopub.status.idle": "2021-01-14T14:57:35.233954Z",
     "shell.execute_reply": "2021-01-14T14:57:35.233194Z"
    },
    "papermill": {
     "duration": 0.176113,
     "end_time": "2021-01-14T14:57:35.234119",
     "exception": false,
     "start_time": "2021-01-14T14:57:35.058006",
     "status": "completed"
    },
    "tags": []
   },
   "outputs": [
    {
     "name": "stdout",
     "output_type": "stream",
     "text": [
      "Model: \"sequential\"\n",
      "_________________________________________________________________\n",
      "Layer (type)                 Output Shape              Param #   \n",
      "=================================================================\n",
      "rescaling (Rescaling)        (None, 150, 150, 3)       0         \n",
      "_________________________________________________________________\n",
      "conv2d (Conv2D)              (None, 148, 148, 32)      896       \n",
      "_________________________________________________________________\n",
      "max_pooling2d (MaxPooling2D) (None, 74, 74, 32)        0         \n",
      "_________________________________________________________________\n",
      "conv2d_1 (Conv2D)            (None, 72, 72, 64)        18496     \n",
      "_________________________________________________________________\n",
      "max_pooling2d_1 (MaxPooling2 (None, 36, 36, 64)        0         \n",
      "_________________________________________________________________\n",
      "conv2d_2 (Conv2D)            (None, 34, 34, 128)       73856     \n",
      "_________________________________________________________________\n",
      "max_pooling2d_2 (MaxPooling2 (None, 17, 17, 128)       0         \n",
      "_________________________________________________________________\n",
      "flatten (Flatten)            (None, 36992)             0         \n",
      "_________________________________________________________________\n",
      "dropout (Dropout)            (None, 36992)             0         \n",
      "_________________________________________________________________\n",
      "dense (Dense)                (None, 64)                2367552   \n",
      "_________________________________________________________________\n",
      "dropout_1 (Dropout)          (None, 64)                0         \n",
      "_________________________________________________________________\n",
      "dense_1 (Dense)              (None, 128)               8320      \n",
      "_________________________________________________________________\n",
      "dropout_2 (Dropout)          (None, 128)               0         \n",
      "_________________________________________________________________\n",
      "dense_2 (Dense)              (None, 6)                 774       \n",
      "=================================================================\n",
      "Total params: 2,469,894\n",
      "Trainable params: 2,469,894\n",
      "Non-trainable params: 0\n",
      "_________________________________________________________________\n"
     ]
    }
   ],
   "source": [
    "model = keras.Sequential([\n",
    "    keras.layers.InputLayer(input_shape=(image_width, image_height, 3)),\n",
    "#     keras.layers.experimental.preprocessing.RandomFlip(),\n",
    "#     keras.layers.experimental.preprocessing.RandomRotation(0.2),\n",
    "#     keras.layers.experimental.preprocessing.RandomZoom((0.2, 0.3)),\n",
    "    keras.layers.experimental.preprocessing.Rescaling(1./255),\n",
    "    keras.layers.Conv2D(32, 3, activation='relu'),\n",
    "    keras.layers.MaxPool2D(),\n",
    "    keras.layers.Conv2D(64, 3, activation='relu'),\n",
    "    keras.layers.MaxPool2D(),\n",
    "    keras.layers.Conv2D(128, 3, activation='relu'),\n",
    "    keras.layers.MaxPool2D(),\n",
    "    keras.layers.Flatten(),\n",
    "    keras.layers.Dropout(0.3),\n",
    "    keras.layers.Dense(64, activation='relu'),\n",
    "    keras.layers.Dropout(0.3),\n",
    "    keras.layers.Dense(128, activation='relu'),\n",
    "    keras.layers.Dropout(0.3),\n",
    "    keras.layers.Dense(len(class_names), activation='softmax')\n",
    "])\n",
    "\n",
    "model.summary()"
   ]
  },
  {
   "cell_type": "markdown",
   "metadata": {
    "papermill": {
     "duration": 0.016041,
     "end_time": "2021-01-14T14:57:35.266959",
     "exception": false,
     "start_time": "2021-01-14T14:57:35.250918",
     "status": "completed"
    },
    "tags": []
   },
   "source": [
    "# Configure model"
   ]
  },
  {
   "cell_type": "code",
   "execution_count": 14,
   "metadata": {
    "execution": {
     "iopub.execute_input": "2021-01-14T14:57:35.311277Z",
     "iopub.status.busy": "2021-01-14T14:57:35.309648Z",
     "iopub.status.idle": "2021-01-14T14:57:35.315873Z",
     "shell.execute_reply": "2021-01-14T14:57:35.316317Z"
    },
    "papermill": {
     "duration": 0.033363,
     "end_time": "2021-01-14T14:57:35.316435",
     "exception": false,
     "start_time": "2021-01-14T14:57:35.283072",
     "status": "completed"
    },
    "tags": []
   },
   "outputs": [],
   "source": [
    "model.compile(optimizer='adam',\n",
    "             loss='sparse_categorical_crossentropy',\n",
    "             metrics=['accuracy'])"
   ]
  },
  {
   "cell_type": "markdown",
   "metadata": {
    "papermill": {
     "duration": 0.015829,
     "end_time": "2021-01-14T14:57:35.348257",
     "exception": false,
     "start_time": "2021-01-14T14:57:35.332428",
     "status": "completed"
    },
    "tags": []
   },
   "source": [
    "# Training model"
   ]
  },
  {
   "cell_type": "code",
   "execution_count": 15,
   "metadata": {
    "execution": {
     "iopub.execute_input": "2021-01-14T14:57:35.385388Z",
     "iopub.status.busy": "2021-01-14T14:57:35.384728Z",
     "iopub.status.idle": "2021-01-14T14:58:24.378797Z",
     "shell.execute_reply": "2021-01-14T14:58:24.379273Z"
    },
    "papermill": {
     "duration": 49.014872,
     "end_time": "2021-01-14T14:58:24.379416",
     "exception": false,
     "start_time": "2021-01-14T14:57:35.364544",
     "status": "completed"
    },
    "tags": []
   },
   "outputs": [
    {
     "name": "stdout",
     "output_type": "stream",
     "text": [
      "Epoch 1/20\n",
      "98/98 [==============================] - 86s 851ms/step - loss: 1.6473 - accuracy: 0.2446 - val_loss: 1.3046 - val_accuracy: 0.4280\n",
      "Epoch 2/20\n",
      "98/98 [==============================] - 82s 836ms/step - loss: 1.3723 - accuracy: 0.3895 - val_loss: 1.2194 - val_accuracy: 0.4987\n",
      "Epoch 3/20\n",
      "98/98 [==============================] - 84s 860ms/step - loss: 1.2199 - accuracy: 0.4723 - val_loss: 1.0500 - val_accuracy: 0.5964\n",
      "Epoch 4/20\n",
      "98/98 [==============================] - 84s 856ms/step - loss: 1.0521 - accuracy: 0.5846 - val_loss: 0.9284 - val_accuracy: 0.6491\n",
      "Epoch 5/20\n",
      "98/98 [==============================] - 85s 863ms/step - loss: 0.9792 - accuracy: 0.6213 - val_loss: 0.7764 - val_accuracy: 0.7108\n",
      "Epoch 6/20\n",
      "98/98 [==============================] - 84s 854ms/step - loss: 0.8140 - accuracy: 0.6972 - val_loss: 0.7388 - val_accuracy: 0.7224\n",
      "Epoch 7/20\n",
      "98/98 [==============================] - 84s 857ms/step - loss: 0.7190 - accuracy: 0.7351 - val_loss: 0.7216 - val_accuracy: 0.7429\n",
      "Epoch 8/20\n",
      "98/98 [==============================] - 84s 854ms/step - loss: 0.6525 - accuracy: 0.7531 - val_loss: 0.8092 - val_accuracy: 0.7326\n",
      "Epoch 9/20\n",
      "98/98 [==============================] - 84s 852ms/step - loss: 0.5987 - accuracy: 0.7704 - val_loss: 0.6288 - val_accuracy: 0.7943\n",
      "Epoch 10/20\n",
      "98/98 [==============================] - 84s 860ms/step - loss: 0.5528 - accuracy: 0.7881 - val_loss: 0.6025 - val_accuracy: 0.8008\n",
      "Epoch 11/20\n",
      "98/98 [==============================] - 84s 855ms/step - loss: 0.4509 - accuracy: 0.8337 - val_loss: 0.5297 - val_accuracy: 0.8278\n",
      "Epoch 12/20\n",
      "98/98 [==============================] - 84s 856ms/step - loss: 0.4088 - accuracy: 0.8518 - val_loss: 0.4839 - val_accuracy: 0.8573\n",
      "Epoch 13/20\n",
      "98/98 [==============================] - 97s 991ms/step - loss: 0.3381 - accuracy: 0.8734 - val_loss: 0.4854 - val_accuracy: 0.8676\n",
      "Epoch 14/20\n",
      "98/98 [==============================] - 115s 1s/step - loss: 0.2940 - accuracy: 0.8915 - val_loss: 0.4732 - val_accuracy: 0.8599\n",
      "Epoch 15/20\n",
      "98/98 [==============================] - 103s 1s/step - loss: 0.2804 - accuracy: 0.8953 - val_loss: 0.4781 - val_accuracy: 0.8805\n",
      "Epoch 16/20\n",
      "98/98 [==============================] - 121s 1s/step - loss: 0.2347 - accuracy: 0.9092 - val_loss: 0.5779 - val_accuracy: 0.8689\n",
      "Epoch 17/20\n",
      "98/98 [==============================] - 100s 1s/step - loss: 0.2445 - accuracy: 0.9129 - val_loss: 0.5226 - val_accuracy: 0.8817\n",
      "Epoch 18/20\n",
      "98/98 [==============================] - 105s 1s/step - loss: 0.1857 - accuracy: 0.9294 - val_loss: 0.5407 - val_accuracy: 0.8650\n",
      "Epoch 19/20\n",
      "98/98 [==============================] - 128s 1s/step - loss: 0.1885 - accuracy: 0.9380 - val_loss: 0.5862 - val_accuracy: 0.8753\n",
      "Epoch 20/20\n",
      "98/98 [==============================] - 117s 1s/step - loss: 0.2148 - accuracy: 0.9290 - val_loss: 0.5799 - val_accuracy: 0.8753\n"
     ]
    }
   ],
   "source": [
    "hist = model.fit(train_dataset,\n",
    "                 epochs=20,\n",
    "                 validation_data=val_dataset)"
   ]
  },
  {
   "cell_type": "markdown",
   "metadata": {
    "papermill": {
     "duration": 0.364564,
     "end_time": "2021-01-14T14:58:25.093862",
     "exception": false,
     "start_time": "2021-01-14T14:58:24.729298",
     "status": "completed"
    },
    "tags": []
   },
   "source": [
    "# Visualize training and validation"
   ]
  },
  {
   "cell_type": "code",
   "execution_count": 16,
   "metadata": {
    "execution": {
     "iopub.execute_input": "2021-01-14T14:58:25.530015Z",
     "iopub.status.busy": "2021-01-14T14:58:25.529287Z",
     "iopub.status.idle": "2021-01-14T14:58:25.922326Z",
     "shell.execute_reply": "2021-01-14T14:58:25.922829Z"
    },
    "papermill": {
     "duration": 0.615125,
     "end_time": "2021-01-14T14:58:25.922974",
     "exception": false,
     "start_time": "2021-01-14T14:58:25.307849",
     "status": "completed"
    },
    "tags": []
   },
   "outputs": [
    {
     "data": {
      "image/png": "[encoded data removed]",
      "text/plain": [
       "<Figure size 432x288 with 1 Axes>"
      ]
     },
     "metadata": {
      "needs_background": "light"
     },
     "output_type": "display_data"
    },
    {
     "data": {
      "image/png": "[encoded data removed]",
      "text/plain": [
       "<Figure size 432x288 with 1 Axes>"
      ]
     },
     "metadata": {
      "needs_background": "light"
     },
     "output_type": "display_data"
    }
   ],
   "source": [
    "acc = hist.history['accuracy']\n",
    "val_acc = hist.history['val_accuracy']\n",
    "loss = hist.history['loss']\n",
    "val_loss = hist.history['val_loss']\n",
    "epochs = range(1, len(acc) + 1)\n",
    "\n",
    "plt.plot(epochs, acc, 'r', label='Training accuracy')\n",
    "plt.plot(epochs, val_acc, 'b', label='Validation accuracy')\n",
    "plt.title('Traing and Validaion accuracy')\n",
    "plt.legend()\n",
    "\n",
    "plt.figure()\n",
    "\n",
    "plt.plot(epochs, loss, 'r', label='Training loss')\n",
    "plt.plot(epochs, val_loss, 'b', label='Validation loss')\n",
    "plt.title('Traing and Validaion loss')\n",
    "plt.legend()\n",
    "\n",
    "plt.show()\n"
   ]
  },
  {
   "cell_type": "markdown",
   "metadata": {
    "papermill": {
     "duration": 0.210621,
     "end_time": "2021-01-14T14:58:26.354786",
     "exception": false,
     "start_time": "2021-01-14T14:58:26.144165",
     "status": "completed"
    },
    "tags": []
   },
   "source": [
    "# Make predictions"
   ]
  },
  {
   "cell_type": "code",
   "execution_count": 17,
   "metadata": {
    "execution": {
     "iopub.execute_input": "2021-01-14T14:58:26.795079Z",
     "iopub.status.busy": "2021-01-14T14:58:26.794133Z",
     "iopub.status.idle": "2021-01-14T14:58:33.388053Z",
     "shell.execute_reply": "2021-01-14T14:58:33.389391Z"
    },
    "papermill": {
     "duration": 6.814523,
     "end_time": "2021-01-14T14:58:33.389581",
     "exception": false,
     "start_time": "2021-01-14T14:58:26.575058",
     "status": "completed"
    },
    "tags": []
   },
   "outputs": [
    {
     "name": "stdout",
     "output_type": "stream",
     "text": [
      "True label: daisy\n",
      "This image most likely belongs to daisy with a 99.12 percent confidence.\n"
     ]
    }
   ],
   "source": [
    "import matplotlib.pyplot as plt\n",
    "\n",
    "predictions = model.predict(test_dataset)\n",
    "\n",
    "index = 20\n",
    "\n",
    "for img, label in test_dataset.take(1):\n",
    "    print('True label:', class_names[label[index]])\n",
    "    img = keras.preprocessing.image.array_to_img(img[index])\n",
    "    \n",
    "\n",
    "print(\n",
    "    \"This image most likely belongs to {} with a {:.2f} percent confidence.\"\n",
    "    .format(class_names[np.argmax(predictions[index])], 100 * np.max(predictions[index]))\n",
    ")"
   ]
  },
  {
   "cell_type": "code",
   "execution_count": 15,
   "metadata": {
    "execution": {
     "iopub.execute_input": "2021-01-14T14:58:33.828483Z",
     "iopub.status.busy": "2021-01-14T14:58:33.827891Z",
     "iopub.status.idle": "2021-01-14T14:58:33.861443Z",
     "shell.execute_reply": "2021-01-14T14:58:33.861940Z"
    },
    "papermill": {
     "duration": 0.255408,
     "end_time": "2021-01-14T14:58:33.862061",
     "exception": false,
     "start_time": "2021-01-14T14:58:33.606653",
     "status": "completed"
    },
    "tags": []
   },
   "outputs": [
    {
     "data": {
      "image/png": "[encoded data removed]",
      "text/plain": [
       "<PIL.Image.Image image mode=RGB size=150x150 at 0x7F12D87F9290>"
      ]
     },
     "execution_count": 15,
     "metadata": {},
     "output_type": "execute_result"
    }
   ],
   "source": [
    "img"
   ]
  },
  {
   "cell_type": "code",
   "execution_count": null,
   "metadata": {
    "papermill": {
     "duration": 0.282019,
     "end_time": "2021-01-14T14:58:34.363581",
     "exception": false,
     "start_time": "2021-01-14T14:58:34.081562",
     "status": "completed"
    },
    "tags": []
   },
   "outputs": [],
   "source": []
  }
 ],
 "metadata": {
  "kernelspec": {
   "display_name": "Python 3",
   "language": "python",
   "name": "python3"
  },
  "language_info": {
   "codemirror_mode": {
    "name": "ipython",
    "version": 3
   },
   "file_extension": ".py",
   "mimetype": "text/x-python",
   "name": "python",
   "nbconvert_exporter": "python",
   "pygments_lexer": "ipython3",
   "version": "3.8.5"
  },
  "papermill": {
   "duration": 75.852968,
   "end_time": "2021-01-14T14:58:36.612286",
   "environment_variables": {},
   "exception": null,
   "input_path": "__notebook__.ipynb",
   "output_path": "__notebook__.ipynb",
   "parameters": {},
   "start_time": "2021-01-14T14:57:20.759318",
   "version": "2.1.0"
  }
 },
 "nbformat": 4,
 "nbformat_minor": 4
}
